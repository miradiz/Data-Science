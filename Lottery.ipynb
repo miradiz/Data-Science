{
 "cells": [
  {
   "cell_type": "markdown",
   "metadata": {},
   "source": [
    "# 6/49 Lottery\n",
    "\n",
    "## Probability \n",
    "(c) Miradiz Rakhmatov\n",
    "\n",
    "In this project, I'm going to contribute to the development of a mobile app that is meant to help lottery addicts better estimate their chances of winning.\n",
    "\n",
    "Many people start playing the lottery for fun, but for some this activity turns into a habit which eventually escalates into addiction. Like other compulsive gamblers, lottery addicts soon begin spending from their savings and loans, they start to accumulate debts, and eventually engage in desperate behaviors like theft.\n",
    "\n",
    "A medical institute that aims to prevent and treat gambling addictions wants to build a dedicated mobile app to help lottery addicts better estimate their chances of winning. The institute has a team of engineers that will build the app, but they need me to create the logical core of the app and calculate probabilities.\n",
    "\n",
    "\n",
    "### For this app, I'm going to focus on the 6/49 lottery and build functions that enable users to answer questions like:\n",
    "\n",
    "1) What is the probability of winning the big prize with a single ticket?\n",
    "\n",
    "2) What is the probability of winning the big prize if we play 40 different tickets (or any other number)?\n",
    "\n",
    "3) What is the probability of having at least five (or four, or three, or two) winning numbers on a single ticket?"
   ]
  },
  {
   "cell_type": "markdown",
   "metadata": {},
   "source": [
    "## Question 1:\n",
    "\n",
    "* I have to create a function for finding a factorial for a given number (n!). \n",
    "\n",
    "* I have to create a function to estimate combination. A combination is a groupping of outcomes in which the order does not matter. Meaning that Tom and Jerry are the same pair as Jerry and Tom. In 6/49, order of the outcomes does not matter as long as 6 numbers drawn are the same as 6 winning numbers. \n",
    "* Write a function, which takes in a list of six unique numbers and prints the probability of winning in a way that's easy to understand.\n"
   ]
  },
  {
   "cell_type": "code",
   "execution_count": 1,
   "metadata": {},
   "outputs": [],
   "source": [
    "## Function that takes a number and returns factorial for that number\n",
    "def factorial(n):\n",
    "    result = 1\n",
    "    for i in range(n):\n",
    "        result *= n-i\n",
    "    return result"
   ]
  },
  {
   "cell_type": "code",
   "execution_count": 2,
   "metadata": {},
   "outputs": [],
   "source": [
    "## Test the function\n",
    "print('Factorial value of 5 is {}'.format(factorial(5)))"
   ]
  },
  {
   "cell_type": "code",
   "execution_count": 3,
   "metadata": {},
   "outputs": [],
   "source": [
    "## Function for calculating number of combinations in unordered sampling without replacement\n",
    "## Assuming that we have a set with n elements, and we want to draw k samples from the set\n",
    "def combinations(n, k): \n",
    "    numerator = factorial(n)\n",
    "    denominator = factorial(k) * factorial(n-k)\n",
    "    return numerator/denominator"
   ]
  },
  {
   "cell_type": "code",
   "execution_count": 4,
   "metadata": {},
   "outputs": [],
   "source": [
    "print('There are {} unique combinations in 6/49'.format(combinations(49, 6)))"
   ]
  },
  {
   "cell_type": "code",
   "execution_count": 5,
   "metadata": {},
   "outputs": [],
   "source": [
    "## Function that calculates the probability of winning with one ticket\n",
    "def one_ticket_probability(six_digit_lottery):\n",
    "    total_outcomes = combinations(49, 6)  ## total number of combinations in 6/49: 13983816\n",
    "    probability = 1/total_outcomes        ## probability to win jackpot with one ticket (ratio)\n",
    "    percentage = probability*100          ## in percentage\n",
    "    print('''\n",
    "    Your chances to win the big prize with the numbers {} are {:.7f}%. \n",
    "    In other words, you have 1 in {:,} chances to win.'''.format(six_digit_lottery, percentage, int(combinations(49, 6))))"
   ]
  },
  {
   "cell_type": "code",
   "execution_count": 6,
   "metadata": {},
   "outputs": [
    {
     "name": "stdout",
     "output_type": "stream",
     "text": [
      "\n",
      "    Your chances to win the big prize with the numbers 231313 are 0.0000072%. \n",
      "    In other words, you have 1 in 13,983,816 chances to win.\n"
     ]
    }
   ],
   "source": [
    "## Fictional ticket '231313'\n",
    "one_ticket_probability('231313')"
   ]
  },
  {
   "cell_type": "markdown",
   "metadata": {},
   "source": [
    "### Findings from Question 1:\n",
    "As you see, I was able to write a function for calculating the factorial value for a given number. Also, I created a function for calculating number of combinations in unordered sampling without replacement. Finally, I calculated the changes of winning with only one ticket which is 0.0000072%"
   ]
  },
  {
   "cell_type": "markdown",
   "metadata": {},
   "source": [
    "## Question 2: \n",
    "What is the probability of winning the big prize if we play 40 different tickets (or any other number) "
   ]
  },
  {
   "cell_type": "code",
   "execution_count": 7,
   "metadata": {},
   "outputs": [],
   "source": [
    "## Function that takes n number of tickets and returns the probability of winning with n number of tickets\n",
    "def multi_ticket_probability(tickets):\n",
    "    total_outcomes = combinations(49, 6)\n",
    "    probability = tickets/total_outcomes*100\n",
    "    if tickets == 1:\n",
    "        print('Probability of winning with {} ticket is {:.5f}%'.format(tickets, probability))\n",
    "    else:\n",
    "        print('Probability of winning with {} tickets is {:.5f}%'.format(tickets, probability))"
   ]
  },
  {
   "cell_type": "code",
   "execution_count": 8,
   "metadata": {},
   "outputs": [
    {
     "name": "stdout",
     "output_type": "stream",
     "text": [
      "Probability of winning with 40 tickets is 0.00029%\n"
     ]
    }
   ],
   "source": [
    "multi_ticket_probability(40)"
   ]
  },
  {
   "cell_type": "code",
   "execution_count": 9,
   "metadata": {},
   "outputs": [],
   "source": [
    "## Function that takes a list of numbers representing n number of tickets and returns the probability of winning\n",
    "def chances(number_of_tickets):\n",
    "    for i in number_of_tickets:\n",
    "        multi_ticket_probability(i)\n",
    "        print('-'*60)"
   ]
  },
  {
   "cell_type": "code",
   "execution_count": 10,
   "metadata": {},
   "outputs": [
    {
     "name": "stdout",
     "output_type": "stream",
     "text": [
      "Probability of winning with 1 ticket is 0.00001%\n",
      "------------------------------------------------------------\n",
      "Probability of winning with 10 tickets is 0.00007%\n",
      "------------------------------------------------------------\n",
      "Probability of winning with 100 tickets is 0.00072%\n",
      "------------------------------------------------------------\n",
      "Probability of winning with 10000 tickets is 0.07151%\n",
      "------------------------------------------------------------\n",
      "Probability of winning with 1000000 tickets is 7.15112%\n",
      "------------------------------------------------------------\n",
      "Probability of winning with 6991908 tickets is 50.00000%\n",
      "------------------------------------------------------------\n",
      "Probability of winning with 13983816 tickets is 100.00000%\n",
      "------------------------------------------------------------\n"
     ]
    }
   ],
   "source": [
    "## Lets see the chances of winning with 1, 10, 100, 10000, 1000000, 6991908, 13983816 tickets \n",
    "chances([1, 10, 100, 10000, 1000000, 6991908, 13983816])"
   ]
  },
  {
   "cell_type": "markdown",
   "metadata": {},
   "source": [
    "### Findings from Question 2: \n",
    "As you see above, the more tickets you have the more chances you have to win the lottery."
   ]
  },
  {
   "cell_type": "markdown",
   "metadata": {},
   "source": [
    "## Question 3:\n",
    "\n",
    "For extra context, in most 6/49 lotteries there are smaller prizes if a player's ticket match two, three, four, or five of the six numbers drawn. As a consequence, the users might be interested in knowing the probability of having two, three, four, or five winning numbers."
   ]
  },
  {
   "cell_type": "code",
   "execution_count": 11,
   "metadata": {},
   "outputs": [],
   "source": [
    "## Function that calculates the chances of having (2,3,4,5) winning numbers in any of six numbers drawn\n",
    "def probability_less_6(n_winning_numbers):\n",
    "    \n",
    "    n_combo = combinations(6, n_winning_numbers)\n",
    "    n_combo_left = combinations(43, 6 - n_winning_numbers)\n",
    "    possible_outcomes = n_combo * n_combo_left\n",
    "    total_outcomes = combinations(49, 6)\n",
    "    probability = possible_outcomes/total_outcomes\n",
    "    percentage = probability*100\n",
    "    \n",
    "    print('''The chances of having {} winning numbers is {:.6f}%. '''.format(n_winning_numbers, percentage))"
   ]
  },
  {
   "cell_type": "code",
   "execution_count": 12,
   "metadata": {},
   "outputs": [
    {
     "name": "stdout",
     "output_type": "stream",
     "text": [
      "The chances of having 2 winning numbers is 13.237803%. \n",
      "------------------------------------------------------------\n",
      "The chances of having 3 winning numbers is 1.765040%. \n",
      "------------------------------------------------------------\n",
      "The chances of having 4 winning numbers is 0.096862%. \n",
      "------------------------------------------------------------\n",
      "The chances of having 5 winning numbers is 0.001845%. \n",
      "------------------------------------------------------------\n"
     ]
    }
   ],
   "source": [
    "## Lets see the chances of having 2,3,4 and 5 winning numbers in 6 number lottery\n",
    "for i in [2,3,4,5]:\n",
    "    probability_less_6(i)\n",
    "    print('-'*60)"
   ]
  },
  {
   "cell_type": "markdown",
   "metadata": {},
   "source": [
    "### Findings from Question 3:\n",
    "As it turns out, there is a higher probability of having 2 winning numbers than 5."
   ]
  },
  {
   "cell_type": "markdown",
   "metadata": {},
   "source": [
    "## Bonus:\n",
    "\n",
    "Let's create function that will enable users to compare their ticket against the historical lottery data in Canada and determine whether they would have ever won by now."
   ]
  },
  {
   "cell_type": "code",
   "execution_count": 13,
   "metadata": {},
   "outputs": [],
   "source": [
    "import pandas as pd"
   ]
  },
  {
   "cell_type": "code",
   "execution_count": 14,
   "metadata": {},
   "outputs": [
    {
     "data": {
      "text/html": [
       "<div>\n",
       "<style scoped>\n",
       "    .dataframe tbody tr th:only-of-type {\n",
       "        vertical-align: middle;\n",
       "    }\n",
       "\n",
       "    .dataframe tbody tr th {\n",
       "        vertical-align: top;\n",
       "    }\n",
       "\n",
       "    .dataframe thead th {\n",
       "        text-align: right;\n",
       "    }\n",
       "</style>\n",
       "<table border=\"1\" class=\"dataframe\">\n",
       "  <thead>\n",
       "    <tr style=\"text-align: right;\">\n",
       "      <th></th>\n",
       "      <th>PRODUCT</th>\n",
       "      <th>DRAW NUMBER</th>\n",
       "      <th>SEQUENCE NUMBER</th>\n",
       "      <th>DRAW DATE</th>\n",
       "      <th>NUMBER DRAWN 1</th>\n",
       "      <th>NUMBER DRAWN 2</th>\n",
       "      <th>NUMBER DRAWN 3</th>\n",
       "      <th>NUMBER DRAWN 4</th>\n",
       "      <th>NUMBER DRAWN 5</th>\n",
       "      <th>NUMBER DRAWN 6</th>\n",
       "      <th>BONUS NUMBER</th>\n",
       "    </tr>\n",
       "  </thead>\n",
       "  <tbody>\n",
       "    <tr>\n",
       "      <th>0</th>\n",
       "      <td>649</td>\n",
       "      <td>1</td>\n",
       "      <td>0</td>\n",
       "      <td>6/12/1982</td>\n",
       "      <td>3</td>\n",
       "      <td>11</td>\n",
       "      <td>12</td>\n",
       "      <td>14</td>\n",
       "      <td>41</td>\n",
       "      <td>43</td>\n",
       "      <td>13</td>\n",
       "    </tr>\n",
       "    <tr>\n",
       "      <th>1</th>\n",
       "      <td>649</td>\n",
       "      <td>2</td>\n",
       "      <td>0</td>\n",
       "      <td>6/19/1982</td>\n",
       "      <td>8</td>\n",
       "      <td>33</td>\n",
       "      <td>36</td>\n",
       "      <td>37</td>\n",
       "      <td>39</td>\n",
       "      <td>41</td>\n",
       "      <td>9</td>\n",
       "    </tr>\n",
       "    <tr>\n",
       "      <th>2</th>\n",
       "      <td>649</td>\n",
       "      <td>3</td>\n",
       "      <td>0</td>\n",
       "      <td>6/26/1982</td>\n",
       "      <td>1</td>\n",
       "      <td>6</td>\n",
       "      <td>23</td>\n",
       "      <td>24</td>\n",
       "      <td>27</td>\n",
       "      <td>39</td>\n",
       "      <td>34</td>\n",
       "    </tr>\n",
       "    <tr>\n",
       "      <th>3</th>\n",
       "      <td>649</td>\n",
       "      <td>4</td>\n",
       "      <td>0</td>\n",
       "      <td>7/3/1982</td>\n",
       "      <td>3</td>\n",
       "      <td>9</td>\n",
       "      <td>10</td>\n",
       "      <td>13</td>\n",
       "      <td>20</td>\n",
       "      <td>43</td>\n",
       "      <td>34</td>\n",
       "    </tr>\n",
       "    <tr>\n",
       "      <th>4</th>\n",
       "      <td>649</td>\n",
       "      <td>5</td>\n",
       "      <td>0</td>\n",
       "      <td>7/10/1982</td>\n",
       "      <td>5</td>\n",
       "      <td>14</td>\n",
       "      <td>21</td>\n",
       "      <td>31</td>\n",
       "      <td>34</td>\n",
       "      <td>47</td>\n",
       "      <td>45</td>\n",
       "    </tr>\n",
       "  </tbody>\n",
       "</table>\n",
       "</div>"
      ],
      "text/plain": [
       "   PRODUCT  DRAW NUMBER  SEQUENCE NUMBER  DRAW DATE  NUMBER DRAWN 1  \\\n",
       "0      649            1                0  6/12/1982               3   \n",
       "1      649            2                0  6/19/1982               8   \n",
       "2      649            3                0  6/26/1982               1   \n",
       "3      649            4                0   7/3/1982               3   \n",
       "4      649            5                0  7/10/1982               5   \n",
       "\n",
       "   NUMBER DRAWN 2  NUMBER DRAWN 3  NUMBER DRAWN 4  NUMBER DRAWN 5  \\\n",
       "0              11              12              14              41   \n",
       "1              33              36              37              39   \n",
       "2               6              23              24              27   \n",
       "3               9              10              13              20   \n",
       "4              14              21              31              34   \n",
       "\n",
       "   NUMBER DRAWN 6  BONUS NUMBER  \n",
       "0              43            13  \n",
       "1              41             9  \n",
       "2              39            34  \n",
       "3              43            34  \n",
       "4              47            45  "
      ]
     },
     "execution_count": 14,
     "metadata": {},
     "output_type": "execute_result"
    }
   ],
   "source": [
    "df = pd.read_csv('649.csv')\n",
    "df.head()"
   ]
  },
  {
   "cell_type": "code",
   "execution_count": 15,
   "metadata": {},
   "outputs": [
    {
     "data": {
      "text/plain": [
       "0        {3, 41, 11, 12, 43, 14}\n",
       "1        {33, 36, 37, 39, 8, 41}\n",
       "2         {1, 6, 39, 23, 24, 27}\n",
       "3         {3, 9, 10, 43, 13, 20}\n",
       "4        {34, 5, 14, 47, 21, 31}\n",
       "                  ...           \n",
       "3660    {38, 40, 41, 10, 15, 23}\n",
       "3661    {36, 46, 47, 19, 25, 31}\n",
       "3662     {32, 34, 6, 22, 24, 31}\n",
       "3663     {2, 38, 15, 49, 21, 31}\n",
       "3664    {35, 37, 14, 48, 24, 31}\n",
       "Length: 3665, dtype: object"
      ]
     },
     "execution_count": 15,
     "metadata": {},
     "output_type": "execute_result"
    }
   ],
   "source": [
    "## Combine 6 drawn numbers from DataFrame into a python set and store them inside the pandas.Series\n",
    "winning_numbers = df[df.columns[4:10]].apply(lambda row: set(row.values), axis=1)\n",
    "winning_numbers"
   ]
  },
  {
   "cell_type": "code",
   "execution_count": 16,
   "metadata": {},
   "outputs": [],
   "source": [
    "## Function takes a list with user's 6 numbers and returns the number of times those numbers happened in the past\n",
    "def check_historical_occurence(user_numbers, winning_numbers):\n",
    "    number_of_times = 0\n",
    "    user_numbers = set(user_numbers)\n",
    "    for i in winning_numbers:\n",
    "        if user_numbers == i:\n",
    "            number_of_times += 1\n",
    "    print('The combination you provided occured {} time(s) in the past'.format(number_of_times))"
   ]
  },
  {
   "cell_type": "code",
   "execution_count": 17,
   "metadata": {},
   "outputs": [
    {
     "name": "stdout",
     "output_type": "stream",
     "text": [
      "The combination you provided occured 1 time(s) in the past\n"
     ]
    }
   ],
   "source": [
    "## User wants to see if numbers (38, 40, 41, 10, 15, 23) were winning numbers in the past\n",
    "check_historical_occurence([38, 40, 41, 10, 15, 23], winning_numbers)"
   ]
  },
  {
   "cell_type": "markdown",
   "metadata": {},
   "source": [
    "## Conclusion:\n",
    "I hope the functions I wrote can contribute in building a dedicated mobile app for helping lottery addicts better estimate their chances of winning."
   ]
  },
  {
   "cell_type": "markdown",
   "metadata": {},
   "source": [
    "# The End"
   ]
  }
 ],
 "metadata": {
  "kernelspec": {
   "display_name": "Python 3",
   "language": "python",
   "name": "python3"
  },
  "language_info": {
   "codemirror_mode": {
    "name": "ipython",
    "version": 3
   },
   "file_extension": ".py",
   "mimetype": "text/x-python",
   "name": "python",
   "nbconvert_exporter": "python",
   "pygments_lexer": "ipython3",
   "version": "3.8.5"
  }
 },
 "nbformat": 4,
 "nbformat_minor": 4
}
