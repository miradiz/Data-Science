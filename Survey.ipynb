{
 "cells": [
  {
   "cell_type": "markdown",
   "metadata": {
    "collapsed": true
   },
   "source": [
    "# Analyze Employee Exit Surveys\n",
    "\n",
    "In this project I will work with exit surveys from employees of Department of Education, Training and Employment (DETE) and the Technical and Further Education (TAFE) institute in Queensland, Australia. My main goal is to answer the following questions:\n",
    "\n",
    "1) Are employees who only worked for the institutes for a short period of time resigning due to some kind of dissatisfaction? What about employees who have been there longer?\n",
    "\n",
    "2) Are younger employees resigning due to some kind of dissatisfaction? What about older employees?\n",
    "\n",
    "(c) Miradiz Rakhmatov"
   ]
  },
  {
   "cell_type": "markdown",
   "metadata": {},
   "source": [
    "# Data Exploration\n",
    "\n",
    "Let's read the datasets and explore the content"
   ]
  },
  {
   "cell_type": "code",
   "execution_count": 1,
   "metadata": {},
   "outputs": [],
   "source": [
    "import pandas as pd\n",
    "import numpy as np\n",
    "import matplotlib.pyplot as plt\n",
    "\n",
    "dete_survey = pd.read_csv('dete_survey.csv')\n",
    "tafe_survey = pd.read_csv('tafe_survey.csv')\n",
    "\n",
    "pd.options.display.max_columns = 100"
   ]
  },
  {
   "cell_type": "code",
   "execution_count": 67,
   "metadata": {},
   "outputs": [
    {
     "data": {
      "text/html": [
       "<div>\n",
       "<style scoped>\n",
       "    .dataframe tbody tr th:only-of-type {\n",
       "        vertical-align: middle;\n",
       "    }\n",
       "\n",
       "    .dataframe tbody tr th {\n",
       "        vertical-align: top;\n",
       "    }\n",
       "\n",
       "    .dataframe thead th {\n",
       "        text-align: right;\n",
       "    }\n",
       "</style>\n",
       "<table border=\"1\" class=\"dataframe\">\n",
       "  <thead>\n",
       "    <tr style=\"text-align: right;\">\n",
       "      <th></th>\n",
       "      <th>ID</th>\n",
       "      <th>SeparationType</th>\n",
       "      <th>Cease Date</th>\n",
       "      <th>DETE Start Date</th>\n",
       "      <th>Role Start Date</th>\n",
       "      <th>Position</th>\n",
       "      <th>Classification</th>\n",
       "      <th>Region</th>\n",
       "      <th>Business Unit</th>\n",
       "      <th>Employment Status</th>\n",
       "      <th>Career move to public sector</th>\n",
       "      <th>Career move to private sector</th>\n",
       "      <th>Interpersonal conflicts</th>\n",
       "      <th>Job dissatisfaction</th>\n",
       "      <th>Dissatisfaction with the department</th>\n",
       "      <th>Physical work environment</th>\n",
       "      <th>Lack of recognition</th>\n",
       "      <th>Lack of job security</th>\n",
       "      <th>Work location</th>\n",
       "      <th>Employment conditions</th>\n",
       "      <th>Maternity/family</th>\n",
       "      <th>Relocation</th>\n",
       "      <th>Study/Travel</th>\n",
       "      <th>Ill Health</th>\n",
       "      <th>Traumatic incident</th>\n",
       "      <th>Work life balance</th>\n",
       "      <th>Workload</th>\n",
       "      <th>None of the above</th>\n",
       "      <th>Professional Development</th>\n",
       "      <th>Opportunities for promotion</th>\n",
       "      <th>Staff morale</th>\n",
       "      <th>Workplace issue</th>\n",
       "      <th>Physical environment</th>\n",
       "      <th>Worklife balance</th>\n",
       "      <th>Stress and pressure support</th>\n",
       "      <th>Performance of supervisor</th>\n",
       "      <th>Peer support</th>\n",
       "      <th>Initiative</th>\n",
       "      <th>Skills</th>\n",
       "      <th>Coach</th>\n",
       "      <th>Career Aspirations</th>\n",
       "      <th>Feedback</th>\n",
       "      <th>Further PD</th>\n",
       "      <th>Communication</th>\n",
       "      <th>My say</th>\n",
       "      <th>Information</th>\n",
       "      <th>Kept informed</th>\n",
       "      <th>Wellness programs</th>\n",
       "      <th>Health &amp; Safety</th>\n",
       "      <th>Gender</th>\n",
       "      <th>Age</th>\n",
       "      <th>Aboriginal</th>\n",
       "      <th>Torres Strait</th>\n",
       "      <th>South Sea</th>\n",
       "      <th>Disability</th>\n",
       "      <th>NESB</th>\n",
       "    </tr>\n",
       "  </thead>\n",
       "  <tbody>\n",
       "    <tr>\n",
       "      <th>0</th>\n",
       "      <td>1</td>\n",
       "      <td>Ill Health Retirement</td>\n",
       "      <td>08/2012</td>\n",
       "      <td>1984.0</td>\n",
       "      <td>2004.0</td>\n",
       "      <td>Public Servant</td>\n",
       "      <td>A01-A04</td>\n",
       "      <td>Central Office</td>\n",
       "      <td>Corporate Strategy and Peformance</td>\n",
       "      <td>Permanent Full-time</td>\n",
       "      <td>True</td>\n",
       "      <td>False</td>\n",
       "      <td>False</td>\n",
       "      <td>True</td>\n",
       "      <td>False</td>\n",
       "      <td>False</td>\n",
       "      <td>True</td>\n",
       "      <td>False</td>\n",
       "      <td>False</td>\n",
       "      <td>False</td>\n",
       "      <td>False</td>\n",
       "      <td>False</td>\n",
       "      <td>False</td>\n",
       "      <td>False</td>\n",
       "      <td>False</td>\n",
       "      <td>False</td>\n",
       "      <td>False</td>\n",
       "      <td>True</td>\n",
       "      <td>A</td>\n",
       "      <td>A</td>\n",
       "      <td>N</td>\n",
       "      <td>N</td>\n",
       "      <td>N</td>\n",
       "      <td>A</td>\n",
       "      <td>A</td>\n",
       "      <td>A</td>\n",
       "      <td>A</td>\n",
       "      <td>N</td>\n",
       "      <td>N</td>\n",
       "      <td>N</td>\n",
       "      <td>A</td>\n",
       "      <td>A</td>\n",
       "      <td>A</td>\n",
       "      <td>N</td>\n",
       "      <td>A</td>\n",
       "      <td>A</td>\n",
       "      <td>N</td>\n",
       "      <td>N</td>\n",
       "      <td>N</td>\n",
       "      <td>Male</td>\n",
       "      <td>56-60</td>\n",
       "      <td>NaN</td>\n",
       "      <td>NaN</td>\n",
       "      <td>NaN</td>\n",
       "      <td>NaN</td>\n",
       "      <td>Yes</td>\n",
       "    </tr>\n",
       "    <tr>\n",
       "      <th>1</th>\n",
       "      <td>2</td>\n",
       "      <td>Voluntary Early Retirement (VER)</td>\n",
       "      <td>08/2012</td>\n",
       "      <td>NaN</td>\n",
       "      <td>NaN</td>\n",
       "      <td>Public Servant</td>\n",
       "      <td>AO5-AO7</td>\n",
       "      <td>Central Office</td>\n",
       "      <td>Corporate Strategy and Peformance</td>\n",
       "      <td>Permanent Full-time</td>\n",
       "      <td>False</td>\n",
       "      <td>False</td>\n",
       "      <td>False</td>\n",
       "      <td>False</td>\n",
       "      <td>False</td>\n",
       "      <td>False</td>\n",
       "      <td>False</td>\n",
       "      <td>False</td>\n",
       "      <td>False</td>\n",
       "      <td>False</td>\n",
       "      <td>False</td>\n",
       "      <td>False</td>\n",
       "      <td>False</td>\n",
       "      <td>False</td>\n",
       "      <td>False</td>\n",
       "      <td>False</td>\n",
       "      <td>False</td>\n",
       "      <td>False</td>\n",
       "      <td>A</td>\n",
       "      <td>A</td>\n",
       "      <td>N</td>\n",
       "      <td>N</td>\n",
       "      <td>N</td>\n",
       "      <td>N</td>\n",
       "      <td>A</td>\n",
       "      <td>A</td>\n",
       "      <td>A</td>\n",
       "      <td>N</td>\n",
       "      <td>N</td>\n",
       "      <td>N</td>\n",
       "      <td>A</td>\n",
       "      <td>A</td>\n",
       "      <td>A</td>\n",
       "      <td>N</td>\n",
       "      <td>A</td>\n",
       "      <td>A</td>\n",
       "      <td>N</td>\n",
       "      <td>N</td>\n",
       "      <td>N</td>\n",
       "      <td>Male</td>\n",
       "      <td>56-60</td>\n",
       "      <td>NaN</td>\n",
       "      <td>NaN</td>\n",
       "      <td>NaN</td>\n",
       "      <td>NaN</td>\n",
       "      <td>NaN</td>\n",
       "    </tr>\n",
       "    <tr>\n",
       "      <th>2</th>\n",
       "      <td>3</td>\n",
       "      <td>Voluntary Early Retirement (VER)</td>\n",
       "      <td>05/2012</td>\n",
       "      <td>2011.0</td>\n",
       "      <td>2011.0</td>\n",
       "      <td>Schools Officer</td>\n",
       "      <td>NaN</td>\n",
       "      <td>Central Office</td>\n",
       "      <td>Education Queensland</td>\n",
       "      <td>Permanent Full-time</td>\n",
       "      <td>False</td>\n",
       "      <td>False</td>\n",
       "      <td>False</td>\n",
       "      <td>False</td>\n",
       "      <td>False</td>\n",
       "      <td>False</td>\n",
       "      <td>False</td>\n",
       "      <td>False</td>\n",
       "      <td>False</td>\n",
       "      <td>False</td>\n",
       "      <td>False</td>\n",
       "      <td>False</td>\n",
       "      <td>False</td>\n",
       "      <td>False</td>\n",
       "      <td>False</td>\n",
       "      <td>False</td>\n",
       "      <td>False</td>\n",
       "      <td>True</td>\n",
       "      <td>N</td>\n",
       "      <td>N</td>\n",
       "      <td>N</td>\n",
       "      <td>N</td>\n",
       "      <td>N</td>\n",
       "      <td>N</td>\n",
       "      <td>N</td>\n",
       "      <td>N</td>\n",
       "      <td>N</td>\n",
       "      <td>N</td>\n",
       "      <td>N</td>\n",
       "      <td>N</td>\n",
       "      <td>N</td>\n",
       "      <td>N</td>\n",
       "      <td>N</td>\n",
       "      <td>A</td>\n",
       "      <td>A</td>\n",
       "      <td>N</td>\n",
       "      <td>N</td>\n",
       "      <td>N</td>\n",
       "      <td>N</td>\n",
       "      <td>Male</td>\n",
       "      <td>61 or older</td>\n",
       "      <td>NaN</td>\n",
       "      <td>NaN</td>\n",
       "      <td>NaN</td>\n",
       "      <td>NaN</td>\n",
       "      <td>NaN</td>\n",
       "    </tr>\n",
       "  </tbody>\n",
       "</table>\n",
       "</div>"
      ],
      "text/plain": [
       "   ID                    SeparationType Cease Date  DETE Start Date  \\\n",
       "0   1             Ill Health Retirement    08/2012           1984.0   \n",
       "1   2  Voluntary Early Retirement (VER)    08/2012              NaN   \n",
       "2   3  Voluntary Early Retirement (VER)    05/2012           2011.0   \n",
       "\n",
       "   Role Start Date         Position Classification          Region  \\\n",
       "0           2004.0   Public Servant        A01-A04  Central Office   \n",
       "1              NaN   Public Servant        AO5-AO7  Central Office   \n",
       "2           2011.0  Schools Officer            NaN  Central Office   \n",
       "\n",
       "                       Business Unit    Employment Status  \\\n",
       "0  Corporate Strategy and Peformance  Permanent Full-time   \n",
       "1  Corporate Strategy and Peformance  Permanent Full-time   \n",
       "2               Education Queensland  Permanent Full-time   \n",
       "\n",
       "   Career move to public sector  Career move to private sector  \\\n",
       "0                          True                          False   \n",
       "1                         False                          False   \n",
       "2                         False                          False   \n",
       "\n",
       "   Interpersonal conflicts  Job dissatisfaction  \\\n",
       "0                    False                 True   \n",
       "1                    False                False   \n",
       "2                    False                False   \n",
       "\n",
       "   Dissatisfaction with the department  Physical work environment  \\\n",
       "0                                False                      False   \n",
       "1                                False                      False   \n",
       "2                                False                      False   \n",
       "\n",
       "   Lack of recognition  Lack of job security  Work location  \\\n",
       "0                 True                 False          False   \n",
       "1                False                 False          False   \n",
       "2                False                 False          False   \n",
       "\n",
       "   Employment conditions  Maternity/family  Relocation  Study/Travel  \\\n",
       "0                  False             False       False         False   \n",
       "1                  False             False       False         False   \n",
       "2                  False             False       False         False   \n",
       "\n",
       "   Ill Health  Traumatic incident  Work life balance  Workload  \\\n",
       "0       False               False              False     False   \n",
       "1       False               False              False     False   \n",
       "2       False               False              False     False   \n",
       "\n",
       "   None of the above Professional Development Opportunities for promotion  \\\n",
       "0               True                        A                           A   \n",
       "1              False                        A                           A   \n",
       "2               True                        N                           N   \n",
       "\n",
       "  Staff morale Workplace issue Physical environment Worklife balance  \\\n",
       "0            N               N                    N                A   \n",
       "1            N               N                    N                N   \n",
       "2            N               N                    N                N   \n",
       "\n",
       "  Stress and pressure support Performance of supervisor Peer support  \\\n",
       "0                           A                         A            A   \n",
       "1                           A                         A            A   \n",
       "2                           N                         N            N   \n",
       "\n",
       "  Initiative Skills Coach Career Aspirations Feedback Further PD  \\\n",
       "0          N      N     N                  A        A          A   \n",
       "1          N      N     N                  A        A          A   \n",
       "2          N      N     N                  N        N          N   \n",
       "\n",
       "  Communication My say Information Kept informed Wellness programs  \\\n",
       "0             N      A           A             N                 N   \n",
       "1             N      A           A             N                 N   \n",
       "2             A      A           N             N                 N   \n",
       "\n",
       "  Health & Safety Gender          Age Aboriginal Torres Strait South Sea  \\\n",
       "0               N   Male        56-60        NaN           NaN       NaN   \n",
       "1               N   Male        56-60        NaN           NaN       NaN   \n",
       "2               N   Male  61 or older        NaN           NaN       NaN   \n",
       "\n",
       "  Disability NESB  \n",
       "0        NaN  Yes  \n",
       "1        NaN  NaN  \n",
       "2        NaN  NaN  "
      ]
     },
     "execution_count": 67,
     "metadata": {},
     "output_type": "execute_result"
    }
   ],
   "source": [
    "dete_survey.head(3)"
   ]
  },
  {
   "cell_type": "code",
   "execution_count": 69,
   "metadata": {},
   "outputs": [
    {
     "data": {
      "text/plain": [
       "(822, 56)"
      ]
     },
     "execution_count": 69,
     "metadata": {},
     "output_type": "execute_result"
    }
   ],
   "source": [
    "dete_survey.shape"
   ]
  },
  {
   "cell_type": "code",
   "execution_count": 68,
   "metadata": {},
   "outputs": [
    {
     "data": {
      "text/html": [
       "<div>\n",
       "<style scoped>\n",
       "    .dataframe tbody tr th:only-of-type {\n",
       "        vertical-align: middle;\n",
       "    }\n",
       "\n",
       "    .dataframe tbody tr th {\n",
       "        vertical-align: top;\n",
       "    }\n",
       "\n",
       "    .dataframe thead th {\n",
       "        text-align: right;\n",
       "    }\n",
       "</style>\n",
       "<table border=\"1\" class=\"dataframe\">\n",
       "  <thead>\n",
       "    <tr style=\"text-align: right;\">\n",
       "      <th></th>\n",
       "      <th>Record ID</th>\n",
       "      <th>Institute</th>\n",
       "      <th>WorkArea</th>\n",
       "      <th>CESSATION YEAR</th>\n",
       "      <th>Reason for ceasing employment</th>\n",
       "      <th>Contributing Factors. Career Move - Public Sector</th>\n",
       "      <th>Contributing Factors. Career Move - Private Sector</th>\n",
       "      <th>Contributing Factors. Career Move - Self-employment</th>\n",
       "      <th>Contributing Factors. Ill Health</th>\n",
       "      <th>Contributing Factors. Maternity/Family</th>\n",
       "      <th>Contributing Factors. Dissatisfaction</th>\n",
       "      <th>Contributing Factors. Job Dissatisfaction</th>\n",
       "      <th>Contributing Factors. Interpersonal Conflict</th>\n",
       "      <th>Contributing Factors. Study</th>\n",
       "      <th>Contributing Factors. Travel</th>\n",
       "      <th>Contributing Factors. Other</th>\n",
       "      <th>Contributing Factors. NONE</th>\n",
       "      <th>Main Factor. Which of these was the main factor for leaving?</th>\n",
       "      <th>InstituteViews. Topic:1. I feel the senior leadership had a clear vision and direction</th>\n",
       "      <th>InstituteViews. Topic:2. I was given access to skills training to help me do my job better</th>\n",
       "      <th>InstituteViews. Topic:3. I was given adequate opportunities for personal development</th>\n",
       "      <th>InstituteViews. Topic:4. I was given adequate opportunities for promotion within %Institute]Q25LBL%</th>\n",
       "      <th>InstituteViews. Topic:5. I felt the salary for the job was right for the responsibilities I had</th>\n",
       "      <th>InstituteViews. Topic:6. The organisation recognised when staff did good work</th>\n",
       "      <th>InstituteViews. Topic:7. Management was generally supportive of me</th>\n",
       "      <th>InstituteViews. Topic:8. Management was generally supportive of my team</th>\n",
       "      <th>InstituteViews. Topic:9. I was kept informed of the changes in the organisation which would affect me</th>\n",
       "      <th>InstituteViews. Topic:10. Staff morale was positive within the Institute</th>\n",
       "      <th>InstituteViews. Topic:11. If I had a workplace issue it was dealt with quickly</th>\n",
       "      <th>InstituteViews. Topic:12. If I had a workplace issue it was dealt with efficiently</th>\n",
       "      <th>InstituteViews. Topic:13. If I had a workplace issue it was dealt with discreetly</th>\n",
       "      <th>WorkUnitViews. Topic:14. I was satisfied with the quality of the management and supervision within my work unit</th>\n",
       "      <th>WorkUnitViews. Topic:15. I worked well with my colleagues</th>\n",
       "      <th>WorkUnitViews. Topic:16. My job was challenging and interesting</th>\n",
       "      <th>WorkUnitViews. Topic:17. I was encouraged to use my initiative in the course of my work</th>\n",
       "      <th>WorkUnitViews. Topic:18. I had sufficient contact with other people in my job</th>\n",
       "      <th>WorkUnitViews. Topic:19. I was given adequate support and co-operation by my peers to enable me to do my job</th>\n",
       "      <th>WorkUnitViews. Topic:20. I was able to use the full range of my skills in my job</th>\n",
       "      <th>WorkUnitViews. Topic:21. I was able to use the full range of my abilities in my job. ; Category:Level of Agreement; Question:YOUR VIEWS ABOUT YOUR WORK UNIT]</th>\n",
       "      <th>WorkUnitViews. Topic:22. I was able to use the full range of my knowledge in my job</th>\n",
       "      <th>WorkUnitViews. Topic:23. My job provided sufficient variety</th>\n",
       "      <th>WorkUnitViews. Topic:24. I was able to cope with the level of stress and pressure in my job</th>\n",
       "      <th>WorkUnitViews. Topic:25. My job allowed me to balance the demands of work and family to my satisfaction</th>\n",
       "      <th>WorkUnitViews. Topic:26. My supervisor gave me adequate personal recognition and feedback on my performance</th>\n",
       "      <th>WorkUnitViews. Topic:27. My working environment was satisfactory e.g. sufficient space, good lighting, suitable seating and working area</th>\n",
       "      <th>WorkUnitViews. Topic:28. I was given the opportunity to mentor and coach others in order for me to pass on my skills and knowledge prior to my cessation date</th>\n",
       "      <th>WorkUnitViews. Topic:29. There was adequate communication between staff in my unit</th>\n",
       "      <th>WorkUnitViews. Topic:30. Staff morale was positive within my work unit</th>\n",
       "      <th>Induction. Did you undertake Workplace Induction?</th>\n",
       "      <th>InductionInfo. Topic:Did you undertake a Corporate Induction?</th>\n",
       "      <th>InductionInfo. Topic:Did you undertake a Institute Induction?</th>\n",
       "      <th>InductionInfo. Topic: Did you undertake Team Induction?</th>\n",
       "      <th>InductionInfo. Face to Face Topic:Did you undertake a Corporate Induction; Category:How it was conducted?</th>\n",
       "      <th>InductionInfo. On-line Topic:Did you undertake a Corporate Induction; Category:How it was conducted?</th>\n",
       "      <th>InductionInfo. Induction Manual Topic:Did you undertake a Corporate Induction?</th>\n",
       "      <th>InductionInfo. Face to Face Topic:Did you undertake a Institute Induction?</th>\n",
       "      <th>InductionInfo. On-line Topic:Did you undertake a Institute Induction?</th>\n",
       "      <th>InductionInfo. Induction Manual Topic:Did you undertake a Institute Induction?</th>\n",
       "      <th>InductionInfo. Face to Face Topic: Did you undertake Team Induction; Category?</th>\n",
       "      <th>InductionInfo. On-line Topic: Did you undertake Team Induction?process you undertook and how it was conducted.]</th>\n",
       "      <th>InductionInfo. Induction Manual Topic: Did you undertake Team Induction?</th>\n",
       "      <th>Workplace. Topic:Did you and your Manager develop a Performance and Professional Development Plan (PPDP)?</th>\n",
       "      <th>Workplace. Topic:Does your workplace promote a work culture free from all forms of unlawful discrimination?</th>\n",
       "      <th>Workplace. Topic:Does your workplace promote and practice the principles of employment equity?</th>\n",
       "      <th>Workplace. Topic:Does your workplace value the diversity of its employees?</th>\n",
       "      <th>Workplace. Topic:Would you recommend the Institute as an employer to others?</th>\n",
       "      <th>Gender. What is your Gender?</th>\n",
       "      <th>CurrentAge. Current Age</th>\n",
       "      <th>Employment Type. Employment Type</th>\n",
       "      <th>Classification. Classification</th>\n",
       "      <th>LengthofServiceOverall. Overall Length of Service at Institute (in years)</th>\n",
       "      <th>LengthofServiceCurrent. Length of Service at current workplace (in years)</th>\n",
       "    </tr>\n",
       "  </thead>\n",
       "  <tbody>\n",
       "    <tr>\n",
       "      <th>0</th>\n",
       "      <td>6.341330e+17</td>\n",
       "      <td>Southern Queensland Institute of TAFE</td>\n",
       "      <td>Non-Delivery (corporate)</td>\n",
       "      <td>2010.0</td>\n",
       "      <td>Contract Expired</td>\n",
       "      <td>NaN</td>\n",
       "      <td>NaN</td>\n",
       "      <td>NaN</td>\n",
       "      <td>NaN</td>\n",
       "      <td>NaN</td>\n",
       "      <td>NaN</td>\n",
       "      <td>NaN</td>\n",
       "      <td>NaN</td>\n",
       "      <td>NaN</td>\n",
       "      <td>NaN</td>\n",
       "      <td>NaN</td>\n",
       "      <td>NaN</td>\n",
       "      <td>NaN</td>\n",
       "      <td>Agree</td>\n",
       "      <td>Agree</td>\n",
       "      <td>Agree</td>\n",
       "      <td>Neutral</td>\n",
       "      <td>Agree</td>\n",
       "      <td>Agree</td>\n",
       "      <td>Agree</td>\n",
       "      <td>Agree</td>\n",
       "      <td>Agree</td>\n",
       "      <td>Agree</td>\n",
       "      <td>Agree</td>\n",
       "      <td>Agree</td>\n",
       "      <td>Agree</td>\n",
       "      <td>Agree</td>\n",
       "      <td>Agree</td>\n",
       "      <td>Agree</td>\n",
       "      <td>Strongly Agree</td>\n",
       "      <td>Agree</td>\n",
       "      <td>Agree</td>\n",
       "      <td>Agree</td>\n",
       "      <td>Agree</td>\n",
       "      <td>Agree</td>\n",
       "      <td>Agree</td>\n",
       "      <td>Agree</td>\n",
       "      <td>Agree</td>\n",
       "      <td>Agree</td>\n",
       "      <td>Agree</td>\n",
       "      <td>Neutral</td>\n",
       "      <td>Agree</td>\n",
       "      <td>Agree</td>\n",
       "      <td>Yes</td>\n",
       "      <td>Yes</td>\n",
       "      <td>Yes</td>\n",
       "      <td>Yes</td>\n",
       "      <td>Face to Face</td>\n",
       "      <td>-</td>\n",
       "      <td>-</td>\n",
       "      <td>Face to Face</td>\n",
       "      <td>-</td>\n",
       "      <td>-</td>\n",
       "      <td>Face to Face</td>\n",
       "      <td>-</td>\n",
       "      <td>-</td>\n",
       "      <td>Yes</td>\n",
       "      <td>Yes</td>\n",
       "      <td>Yes</td>\n",
       "      <td>Yes</td>\n",
       "      <td>Yes</td>\n",
       "      <td>Female</td>\n",
       "      <td>26  30</td>\n",
       "      <td>Temporary Full-time</td>\n",
       "      <td>Administration (AO)</td>\n",
       "      <td>1-2</td>\n",
       "      <td>1-2</td>\n",
       "    </tr>\n",
       "    <tr>\n",
       "      <th>1</th>\n",
       "      <td>6.341337e+17</td>\n",
       "      <td>Mount Isa Institute of TAFE</td>\n",
       "      <td>Non-Delivery (corporate)</td>\n",
       "      <td>2010.0</td>\n",
       "      <td>Retirement</td>\n",
       "      <td>-</td>\n",
       "      <td>-</td>\n",
       "      <td>-</td>\n",
       "      <td>-</td>\n",
       "      <td>-</td>\n",
       "      <td>-</td>\n",
       "      <td>-</td>\n",
       "      <td>-</td>\n",
       "      <td>-</td>\n",
       "      <td>Travel</td>\n",
       "      <td>-</td>\n",
       "      <td>-</td>\n",
       "      <td>NaN</td>\n",
       "      <td>Agree</td>\n",
       "      <td>Agree</td>\n",
       "      <td>Agree</td>\n",
       "      <td>Agree</td>\n",
       "      <td>Agree</td>\n",
       "      <td>Strongly Agree</td>\n",
       "      <td>Strongly Agree</td>\n",
       "      <td>Agree</td>\n",
       "      <td>Strongly Agree</td>\n",
       "      <td>Agree</td>\n",
       "      <td>Agree</td>\n",
       "      <td>Agree</td>\n",
       "      <td>Disagree</td>\n",
       "      <td>Strongly Agree</td>\n",
       "      <td>Strongly Agree</td>\n",
       "      <td>Strongly Agree</td>\n",
       "      <td>Agree</td>\n",
       "      <td>Agree</td>\n",
       "      <td>Agree</td>\n",
       "      <td>Strongly Agree</td>\n",
       "      <td>Agree</td>\n",
       "      <td>Agree</td>\n",
       "      <td>Agree</td>\n",
       "      <td>Strongly Agree</td>\n",
       "      <td>Agree</td>\n",
       "      <td>Strongly Agree</td>\n",
       "      <td>Strongly Agree</td>\n",
       "      <td>Agree</td>\n",
       "      <td>Agree</td>\n",
       "      <td>Strongly Agree</td>\n",
       "      <td>No</td>\n",
       "      <td>NaN</td>\n",
       "      <td>NaN</td>\n",
       "      <td>NaN</td>\n",
       "      <td>NaN</td>\n",
       "      <td>NaN</td>\n",
       "      <td>NaN</td>\n",
       "      <td>NaN</td>\n",
       "      <td>NaN</td>\n",
       "      <td>NaN</td>\n",
       "      <td>NaN</td>\n",
       "      <td>NaN</td>\n",
       "      <td>NaN</td>\n",
       "      <td>Yes</td>\n",
       "      <td>Yes</td>\n",
       "      <td>Yes</td>\n",
       "      <td>Yes</td>\n",
       "      <td>Yes</td>\n",
       "      <td>NaN</td>\n",
       "      <td>NaN</td>\n",
       "      <td>NaN</td>\n",
       "      <td>NaN</td>\n",
       "      <td>NaN</td>\n",
       "      <td>NaN</td>\n",
       "    </tr>\n",
       "    <tr>\n",
       "      <th>2</th>\n",
       "      <td>6.341388e+17</td>\n",
       "      <td>Mount Isa Institute of TAFE</td>\n",
       "      <td>Delivery (teaching)</td>\n",
       "      <td>2010.0</td>\n",
       "      <td>Retirement</td>\n",
       "      <td>-</td>\n",
       "      <td>-</td>\n",
       "      <td>-</td>\n",
       "      <td>-</td>\n",
       "      <td>-</td>\n",
       "      <td>-</td>\n",
       "      <td>-</td>\n",
       "      <td>-</td>\n",
       "      <td>-</td>\n",
       "      <td>-</td>\n",
       "      <td>-</td>\n",
       "      <td>NONE</td>\n",
       "      <td>NaN</td>\n",
       "      <td>Agree</td>\n",
       "      <td>Agree</td>\n",
       "      <td>Agree</td>\n",
       "      <td>Agree</td>\n",
       "      <td>Agree</td>\n",
       "      <td>Agree</td>\n",
       "      <td>Strongly Agree</td>\n",
       "      <td>Agree</td>\n",
       "      <td>Agree</td>\n",
       "      <td>Agree</td>\n",
       "      <td>Agree</td>\n",
       "      <td>Neutral</td>\n",
       "      <td>Neutral</td>\n",
       "      <td>Strongly Agree</td>\n",
       "      <td>Strongly Agree</td>\n",
       "      <td>Agree</td>\n",
       "      <td>Agree</td>\n",
       "      <td>Agree</td>\n",
       "      <td>Agree</td>\n",
       "      <td>Agree</td>\n",
       "      <td>Agree</td>\n",
       "      <td>Agree</td>\n",
       "      <td>Agree</td>\n",
       "      <td>Agree</td>\n",
       "      <td>Agree</td>\n",
       "      <td>Agree</td>\n",
       "      <td>Agree</td>\n",
       "      <td>Agree</td>\n",
       "      <td>Agree</td>\n",
       "      <td>Agree</td>\n",
       "      <td>No</td>\n",
       "      <td>NaN</td>\n",
       "      <td>NaN</td>\n",
       "      <td>NaN</td>\n",
       "      <td>NaN</td>\n",
       "      <td>NaN</td>\n",
       "      <td>NaN</td>\n",
       "      <td>NaN</td>\n",
       "      <td>NaN</td>\n",
       "      <td>NaN</td>\n",
       "      <td>NaN</td>\n",
       "      <td>NaN</td>\n",
       "      <td>NaN</td>\n",
       "      <td>Yes</td>\n",
       "      <td>Yes</td>\n",
       "      <td>Yes</td>\n",
       "      <td>Yes</td>\n",
       "      <td>Yes</td>\n",
       "      <td>NaN</td>\n",
       "      <td>NaN</td>\n",
       "      <td>NaN</td>\n",
       "      <td>NaN</td>\n",
       "      <td>NaN</td>\n",
       "      <td>NaN</td>\n",
       "    </tr>\n",
       "  </tbody>\n",
       "</table>\n",
       "</div>"
      ],
      "text/plain": [
       "      Record ID                              Institute  \\\n",
       "0  6.341330e+17  Southern Queensland Institute of TAFE   \n",
       "1  6.341337e+17            Mount Isa Institute of TAFE   \n",
       "2  6.341388e+17            Mount Isa Institute of TAFE   \n",
       "\n",
       "                   WorkArea  CESSATION YEAR Reason for ceasing employment  \\\n",
       "0  Non-Delivery (corporate)          2010.0              Contract Expired   \n",
       "1  Non-Delivery (corporate)          2010.0                    Retirement   \n",
       "2       Delivery (teaching)          2010.0                    Retirement   \n",
       "\n",
       "  Contributing Factors. Career Move - Public Sector   \\\n",
       "0                                                NaN   \n",
       "1                                                  -   \n",
       "2                                                  -   \n",
       "\n",
       "  Contributing Factors. Career Move - Private Sector   \\\n",
       "0                                                NaN    \n",
       "1                                                  -    \n",
       "2                                                  -    \n",
       "\n",
       "  Contributing Factors. Career Move - Self-employment  \\\n",
       "0                                                NaN    \n",
       "1                                                  -    \n",
       "2                                                  -    \n",
       "\n",
       "  Contributing Factors. Ill Health Contributing Factors. Maternity/Family  \\\n",
       "0                              NaN                                    NaN   \n",
       "1                                -                                      -   \n",
       "2                                -                                      -   \n",
       "\n",
       "  Contributing Factors. Dissatisfaction  \\\n",
       "0                                   NaN   \n",
       "1                                     -   \n",
       "2                                     -   \n",
       "\n",
       "  Contributing Factors. Job Dissatisfaction  \\\n",
       "0                                       NaN   \n",
       "1                                         -   \n",
       "2                                         -   \n",
       "\n",
       "  Contributing Factors. Interpersonal Conflict Contributing Factors. Study  \\\n",
       "0                                          NaN                         NaN   \n",
       "1                                            -                           -   \n",
       "2                                            -                           -   \n",
       "\n",
       "  Contributing Factors. Travel Contributing Factors. Other  \\\n",
       "0                          NaN                         NaN   \n",
       "1                       Travel                           -   \n",
       "2                            -                           -   \n",
       "\n",
       "  Contributing Factors. NONE  \\\n",
       "0                        NaN   \n",
       "1                          -   \n",
       "2                       NONE   \n",
       "\n",
       "  Main Factor. Which of these was the main factor for leaving?  \\\n",
       "0                                                NaN             \n",
       "1                                                NaN             \n",
       "2                                                NaN             \n",
       "\n",
       "  InstituteViews. Topic:1. I feel the senior leadership had a clear vision and direction  \\\n",
       "0                                              Agree                                       \n",
       "1                                              Agree                                       \n",
       "2                                              Agree                                       \n",
       "\n",
       "  InstituteViews. Topic:2. I was given access to skills training to help me do my job better  \\\n",
       "0                                              Agree                                           \n",
       "1                                              Agree                                           \n",
       "2                                              Agree                                           \n",
       "\n",
       "  InstituteViews. Topic:3. I was given adequate opportunities for personal development  \\\n",
       "0                                              Agree                                     \n",
       "1                                              Agree                                     \n",
       "2                                              Agree                                     \n",
       "\n",
       "  InstituteViews. Topic:4. I was given adequate opportunities for promotion within %Institute]Q25LBL%  \\\n",
       "0                                            Neutral                                                    \n",
       "1                                              Agree                                                    \n",
       "2                                              Agree                                                    \n",
       "\n",
       "  InstituteViews. Topic:5. I felt the salary for the job was right for the responsibilities I had  \\\n",
       "0                                              Agree                                                \n",
       "1                                              Agree                                                \n",
       "2                                              Agree                                                \n",
       "\n",
       "  InstituteViews. Topic:6. The organisation recognised when staff did good work  \\\n",
       "0                                              Agree                              \n",
       "1                                     Strongly Agree                              \n",
       "2                                              Agree                              \n",
       "\n",
       "  InstituteViews. Topic:7. Management was generally supportive of me  \\\n",
       "0                                              Agree                   \n",
       "1                                     Strongly Agree                   \n",
       "2                                     Strongly Agree                   \n",
       "\n",
       "  InstituteViews. Topic:8. Management was generally supportive of my team  \\\n",
       "0                                              Agree                        \n",
       "1                                              Agree                        \n",
       "2                                              Agree                        \n",
       "\n",
       "  InstituteViews. Topic:9. I was kept informed of the changes in the organisation which would affect me  \\\n",
       "0                                              Agree                                                      \n",
       "1                                     Strongly Agree                                                      \n",
       "2                                              Agree                                                      \n",
       "\n",
       "  InstituteViews. Topic:10. Staff morale was positive within the Institute  \\\n",
       "0                                              Agree                         \n",
       "1                                              Agree                         \n",
       "2                                              Agree                         \n",
       "\n",
       "  InstituteViews. Topic:11. If I had a workplace issue it was dealt with quickly  \\\n",
       "0                                              Agree                               \n",
       "1                                              Agree                               \n",
       "2                                              Agree                               \n",
       "\n",
       "  InstituteViews. Topic:12. If I had a workplace issue it was dealt with efficiently  \\\n",
       "0                                              Agree                                   \n",
       "1                                              Agree                                   \n",
       "2                                            Neutral                                   \n",
       "\n",
       "  InstituteViews. Topic:13. If I had a workplace issue it was dealt with discreetly  \\\n",
       "0                                              Agree                                  \n",
       "1                                           Disagree                                  \n",
       "2                                            Neutral                                  \n",
       "\n",
       "  WorkUnitViews. Topic:14. I was satisfied with the quality of the management and supervision within my work unit  \\\n",
       "0                                              Agree                                                                \n",
       "1                                     Strongly Agree                                                                \n",
       "2                                     Strongly Agree                                                                \n",
       "\n",
       "  WorkUnitViews. Topic:15. I worked well with my colleagues  \\\n",
       "0                                              Agree          \n",
       "1                                     Strongly Agree          \n",
       "2                                     Strongly Agree          \n",
       "\n",
       "  WorkUnitViews. Topic:16. My job was challenging and interesting  \\\n",
       "0                                              Agree                \n",
       "1                                     Strongly Agree                \n",
       "2                                              Agree                \n",
       "\n",
       "  WorkUnitViews. Topic:17. I was encouraged to use my initiative in the course of my work  \\\n",
       "0                                     Strongly Agree                                        \n",
       "1                                              Agree                                        \n",
       "2                                              Agree                                        \n",
       "\n",
       "  WorkUnitViews. Topic:18. I had sufficient contact with other people in my job  \\\n",
       "0                                              Agree                              \n",
       "1                                              Agree                              \n",
       "2                                              Agree                              \n",
       "\n",
       "  WorkUnitViews. Topic:19. I was given adequate support and co-operation by my peers to enable me to do my job  \\\n",
       "0                                              Agree                                                             \n",
       "1                                              Agree                                                             \n",
       "2                                              Agree                                                             \n",
       "\n",
       "  WorkUnitViews. Topic:20. I was able to use the full range of my skills in my job  \\\n",
       "0                                              Agree                                 \n",
       "1                                     Strongly Agree                                 \n",
       "2                                              Agree                                 \n",
       "\n",
       "  WorkUnitViews. Topic:21. I was able to use the full range of my abilities in my job. ; Category:Level of Agreement; Question:YOUR VIEWS ABOUT YOUR WORK UNIT]  \\\n",
       "0                                              Agree                                                                                                              \n",
       "1                                              Agree                                                                                                              \n",
       "2                                              Agree                                                                                                              \n",
       "\n",
       "  WorkUnitViews. Topic:22. I was able to use the full range of my knowledge in my job  \\\n",
       "0                                              Agree                                    \n",
       "1                                              Agree                                    \n",
       "2                                              Agree                                    \n",
       "\n",
       "  WorkUnitViews. Topic:23. My job provided sufficient variety  \\\n",
       "0                                              Agree            \n",
       "1                                              Agree            \n",
       "2                                              Agree            \n",
       "\n",
       "  WorkUnitViews. Topic:24. I was able to cope with the level of stress and pressure in my job  \\\n",
       "0                                              Agree                                            \n",
       "1                                     Strongly Agree                                            \n",
       "2                                              Agree                                            \n",
       "\n",
       "  WorkUnitViews. Topic:25. My job allowed me to balance the demands of work and family to my satisfaction  \\\n",
       "0                                              Agree                                                        \n",
       "1                                              Agree                                                        \n",
       "2                                              Agree                                                        \n",
       "\n",
       "  WorkUnitViews. Topic:26. My supervisor gave me adequate personal recognition and feedback on my performance  \\\n",
       "0                                              Agree                                                            \n",
       "1                                     Strongly Agree                                                            \n",
       "2                                              Agree                                                            \n",
       "\n",
       "  WorkUnitViews. Topic:27. My working environment was satisfactory e.g. sufficient space, good lighting, suitable seating and working area  \\\n",
       "0                                              Agree                                                                                         \n",
       "1                                     Strongly Agree                                                                                         \n",
       "2                                              Agree                                                                                         \n",
       "\n",
       "  WorkUnitViews. Topic:28. I was given the opportunity to mentor and coach others in order for me to pass on my skills and knowledge prior to my cessation date  \\\n",
       "0                                            Neutral                                                                                                              \n",
       "1                                              Agree                                                                                                              \n",
       "2                                              Agree                                                                                                              \n",
       "\n",
       "  WorkUnitViews. Topic:29. There was adequate communication between staff in my unit  \\\n",
       "0                                              Agree                                   \n",
       "1                                              Agree                                   \n",
       "2                                              Agree                                   \n",
       "\n",
       "  WorkUnitViews. Topic:30. Staff morale was positive within my work unit  \\\n",
       "0                                              Agree                       \n",
       "1                                     Strongly Agree                       \n",
       "2                                              Agree                       \n",
       "\n",
       "  Induction. Did you undertake Workplace Induction?  \\\n",
       "0                                               Yes   \n",
       "1                                                No   \n",
       "2                                                No   \n",
       "\n",
       "  InductionInfo. Topic:Did you undertake a Corporate Induction?  \\\n",
       "0                                                Yes              \n",
       "1                                                NaN              \n",
       "2                                                NaN              \n",
       "\n",
       "  InductionInfo. Topic:Did you undertake a Institute Induction?  \\\n",
       "0                                                Yes              \n",
       "1                                                NaN              \n",
       "2                                                NaN              \n",
       "\n",
       "  InductionInfo. Topic: Did you undertake Team Induction?  \\\n",
       "0                                                Yes        \n",
       "1                                                NaN        \n",
       "2                                                NaN        \n",
       "\n",
       "  InductionInfo. Face to Face Topic:Did you undertake a Corporate Induction; Category:How it was conducted?  \\\n",
       "0                                       Face to Face                                                          \n",
       "1                                                NaN                                                          \n",
       "2                                                NaN                                                          \n",
       "\n",
       "  InductionInfo. On-line Topic:Did you undertake a Corporate Induction; Category:How it was conducted?  \\\n",
       "0                                                  -                                                     \n",
       "1                                                NaN                                                     \n",
       "2                                                NaN                                                     \n",
       "\n",
       "  InductionInfo. Induction Manual Topic:Did you undertake a Corporate Induction?  \\\n",
       "0                                                  -                               \n",
       "1                                                NaN                               \n",
       "2                                                NaN                               \n",
       "\n",
       "  InductionInfo. Face to Face Topic:Did you undertake a Institute Induction?  \\\n",
       "0                                       Face to Face                           \n",
       "1                                                NaN                           \n",
       "2                                                NaN                           \n",
       "\n",
       "  InductionInfo. On-line Topic:Did you undertake a Institute Induction?  \\\n",
       "0                                                  -                      \n",
       "1                                                NaN                      \n",
       "2                                                NaN                      \n",
       "\n",
       "  InductionInfo. Induction Manual Topic:Did you undertake a Institute Induction?  \\\n",
       "0                                                  -                               \n",
       "1                                                NaN                               \n",
       "2                                                NaN                               \n",
       "\n",
       "  InductionInfo. Face to Face Topic: Did you undertake Team Induction; Category?  \\\n",
       "0                                       Face to Face                               \n",
       "1                                                NaN                               \n",
       "2                                                NaN                               \n",
       "\n",
       "  InductionInfo. On-line Topic: Did you undertake Team Induction?process you undertook and how it was conducted.]  \\\n",
       "0                                                  -                                                                \n",
       "1                                                NaN                                                                \n",
       "2                                                NaN                                                                \n",
       "\n",
       "  InductionInfo. Induction Manual Topic: Did you undertake Team Induction?  \\\n",
       "0                                                  -                         \n",
       "1                                                NaN                         \n",
       "2                                                NaN                         \n",
       "\n",
       "  Workplace. Topic:Did you and your Manager develop a Performance and Professional Development Plan (PPDP)?  \\\n",
       "0                                                Yes                                                          \n",
       "1                                                Yes                                                          \n",
       "2                                                Yes                                                          \n",
       "\n",
       "  Workplace. Topic:Does your workplace promote a work culture free from all forms of unlawful discrimination?  \\\n",
       "0                                                Yes                                                            \n",
       "1                                                Yes                                                            \n",
       "2                                                Yes                                                            \n",
       "\n",
       "  Workplace. Topic:Does your workplace promote and practice the principles of employment equity?  \\\n",
       "0                                                Yes                                               \n",
       "1                                                Yes                                               \n",
       "2                                                Yes                                               \n",
       "\n",
       "  Workplace. Topic:Does your workplace value the diversity of its employees?  \\\n",
       "0                                                Yes                           \n",
       "1                                                Yes                           \n",
       "2                                                Yes                           \n",
       "\n",
       "  Workplace. Topic:Would you recommend the Institute as an employer to others?  \\\n",
       "0                                                Yes                             \n",
       "1                                                Yes                             \n",
       "2                                                Yes                             \n",
       "\n",
       "  Gender. What is your Gender? CurrentAge. Current Age  \\\n",
       "0                       Female                  26  30   \n",
       "1                          NaN                     NaN   \n",
       "2                          NaN                     NaN   \n",
       "\n",
       "  Employment Type. Employment Type Classification. Classification  \\\n",
       "0              Temporary Full-time            Administration (AO)   \n",
       "1                              NaN                            NaN   \n",
       "2                              NaN                            NaN   \n",
       "\n",
       "  LengthofServiceOverall. Overall Length of Service at Institute (in years)  \\\n",
       "0                                                1-2                          \n",
       "1                                                NaN                          \n",
       "2                                                NaN                          \n",
       "\n",
       "  LengthofServiceCurrent. Length of Service at current workplace (in years)  \n",
       "0                                                1-2                         \n",
       "1                                                NaN                         \n",
       "2                                                NaN                         "
      ]
     },
     "execution_count": 68,
     "metadata": {},
     "output_type": "execute_result"
    }
   ],
   "source": [
    "tafe_survey.head(3)"
   ]
  },
  {
   "cell_type": "code",
   "execution_count": 70,
   "metadata": {
    "scrolled": false
   },
   "outputs": [
    {
     "data": {
      "text/plain": [
       "(702, 72)"
      ]
     },
     "execution_count": 70,
     "metadata": {},
     "output_type": "execute_result"
    }
   ],
   "source": [
    "tafe_survey.shape"
   ]
  },
  {
   "cell_type": "code",
   "execution_count": 6,
   "metadata": {
    "scrolled": false
   },
   "outputs": [
    {
     "data": {
      "text/plain": [
       "Torres Strait                          819\n",
       "South Sea                              815\n",
       "Aboriginal                             806\n",
       "Disability                             799\n",
       "NESB                                   790\n",
       "Business Unit                          696\n",
       "Classification                         367\n",
       "Opportunities for promotion             87\n",
       "Career Aspirations                      76\n",
       "Wellness programs                       56\n",
       "Coach                                   55\n",
       "Further PD                              54\n",
       "Workplace issue                         34\n",
       "Feedback                                30\n",
       "Health & Safety                         29\n",
       "Gender                                  24\n",
       "Professional Development                14\n",
       "Stress and pressure support             12\n",
       "Skills                                  11\n",
       "Age                                     11\n",
       "Peer support                            10\n",
       "My say                                  10\n",
       "Performance of supervisor                9\n",
       "Initiative                               9\n",
       "Kept informed                            9\n",
       "Communication                            8\n",
       "Worklife balance                         7\n",
       "Staff morale                             6\n",
       "Information                              6\n",
       "Physical environment                     5\n",
       "Employment Status                        5\n",
       "Position                                 5\n",
       "Region                                   0\n",
       "Career move to private sector            0\n",
       "Career move to public sector             0\n",
       "Role Start Date                          0\n",
       "DETE Start Date                          0\n",
       "Cease Date                               0\n",
       "SeparationType                           0\n",
       "Job dissatisfaction                      0\n",
       "Interpersonal conflicts                  0\n",
       "None of the above                        0\n",
       "Dissatisfaction with the department      0\n",
       "Physical work environment                0\n",
       "Lack of recognition                      0\n",
       "Lack of job security                     0\n",
       "Work location                            0\n",
       "Employment conditions                    0\n",
       "Maternity/family                         0\n",
       "Relocation                               0\n",
       "Study/Travel                             0\n",
       "Ill Health                               0\n",
       "Traumatic incident                       0\n",
       "Work life balance                        0\n",
       "Workload                                 0\n",
       "ID                                       0\n",
       "dtype: int64"
      ]
     },
     "execution_count": 6,
     "metadata": {},
     "output_type": "execute_result"
    }
   ],
   "source": [
    "dete_survey.isnull().sum().sort_values(ascending=False)"
   ]
  },
  {
   "cell_type": "markdown",
   "metadata": {},
   "source": [
    "1) The dete_survey dataset contains 'Not Stated' values that indicate values are missing, but they aren't represented as NaN. I'm going to read the dete_survey.csv file into pandas DataFrame again, but this time I will set 'Not Stated' values as NaN.\n",
    "\n",
    "2) I will drop less important columns from both of the dataframes. Note that dropping them will not hinder me from asnwering the main questions."
   ]
  },
  {
   "cell_type": "code",
   "execution_count": 7,
   "metadata": {},
   "outputs": [],
   "source": [
    "# Read 'Not Stated' as NaN\n",
    "dete_survey = pd.read_csv('dete_survey.csv', na_values=('Not Stated')) "
   ]
  },
  {
   "cell_type": "code",
   "execution_count": 8,
   "metadata": {},
   "outputs": [
    {
     "name": "stdout",
     "output_type": "stream",
     "text": [
      "(822, 35)\n",
      "(702, 23)\n"
     ]
    }
   ],
   "source": [
    "# Let's drop the columns that we don't need for our analysis\n",
    "\n",
    "dete_survey_updated = dete_survey.drop(dete_survey.columns[28:49], axis=1)\n",
    "tafe_survey_updated = tafe_survey.drop(tafe_survey.columns[17:66], axis=1)\n",
    "\n",
    "# Making sure the columns were dropped\n",
    "print(dete_survey_updated.shape)\n",
    "print(tafe_survey_updated.shape)"
   ]
  },
  {
   "cell_type": "markdown",
   "metadata": {},
   "source": [
    "# Change Columns Names\n",
    "\n",
    "Now I'm going to change column names for both dataframes for better referencing and eventually joining the two datasets."
   ]
  },
  {
   "cell_type": "markdown",
   "metadata": {},
   "source": [
    "### Dete survey columns:"
   ]
  },
  {
   "cell_type": "code",
   "execution_count": 9,
   "metadata": {},
   "outputs": [
    {
     "data": {
      "text/plain": [
       "Index(['ID', 'SeparationType', 'Cease Date', 'DETE Start Date',\n",
       "       'Role Start Date', 'Position', 'Classification', 'Region',\n",
       "       'Business Unit', 'Employment Status', 'Career move to public sector',\n",
       "       'Career move to private sector', 'Interpersonal conflicts',\n",
       "       'Job dissatisfaction', 'Dissatisfaction with the department',\n",
       "       'Physical work environment', 'Lack of recognition',\n",
       "       'Lack of job security', 'Work location', 'Employment conditions',\n",
       "       'Maternity/family', 'Relocation', 'Study/Travel', 'Ill Health',\n",
       "       'Traumatic incident', 'Work life balance', 'Workload',\n",
       "       'None of the above', 'Gender', 'Age', 'Aboriginal', 'Torres Strait',\n",
       "       'South Sea', 'Disability', 'NESB'],\n",
       "      dtype='object')"
      ]
     },
     "execution_count": 9,
     "metadata": {},
     "output_type": "execute_result"
    }
   ],
   "source": [
    "dete_survey_updated.columns"
   ]
  },
  {
   "cell_type": "code",
   "execution_count": 10,
   "metadata": {},
   "outputs": [],
   "source": [
    "# Reformatting column names\n",
    "dete_survey_updated.columns = dete_survey_updated.columns.str.lower().str.strip().str.replace(\" \" , \"_\")"
   ]
  },
  {
   "cell_type": "code",
   "execution_count": 11,
   "metadata": {},
   "outputs": [
    {
     "data": {
      "text/plain": [
       "Index(['id', 'separationtype', 'cease_date', 'dete_start_date',\n",
       "       'role_start_date', 'position', 'classification', 'region',\n",
       "       'business_unit', 'employment_status', 'career_move_to_public_sector',\n",
       "       'career_move_to_private_sector', 'interpersonal_conflicts',\n",
       "       'job_dissatisfaction', 'dissatisfaction_with_the_department',\n",
       "       'physical_work_environment', 'lack_of_recognition',\n",
       "       'lack_of_job_security', 'work_location', 'employment_conditions',\n",
       "       'maternity/family', 'relocation', 'study/travel', 'ill_health',\n",
       "       'traumatic_incident', 'work_life_balance', 'workload',\n",
       "       'none_of_the_above', 'gender', 'age', 'aboriginal', 'torres_strait',\n",
       "       'south_sea', 'disability', 'nesb'],\n",
       "      dtype='object')"
      ]
     },
     "execution_count": 11,
     "metadata": {},
     "output_type": "execute_result"
    }
   ],
   "source": [
    "dete_survey_updated.columns"
   ]
  },
  {
   "cell_type": "markdown",
   "metadata": {},
   "source": [
    "### Tafe survey columns:"
   ]
  },
  {
   "cell_type": "code",
   "execution_count": 12,
   "metadata": {},
   "outputs": [
    {
     "data": {
      "text/plain": [
       "Index(['Record ID', 'Institute', 'WorkArea', 'CESSATION YEAR',\n",
       "       'Reason for ceasing employment',\n",
       "       'Contributing Factors. Career Move - Public Sector ',\n",
       "       'Contributing Factors. Career Move - Private Sector ',\n",
       "       'Contributing Factors. Career Move - Self-employment',\n",
       "       'Contributing Factors. Ill Health',\n",
       "       'Contributing Factors. Maternity/Family',\n",
       "       'Contributing Factors. Dissatisfaction',\n",
       "       'Contributing Factors. Job Dissatisfaction',\n",
       "       'Contributing Factors. Interpersonal Conflict',\n",
       "       'Contributing Factors. Study', 'Contributing Factors. Travel',\n",
       "       'Contributing Factors. Other', 'Contributing Factors. NONE',\n",
       "       'Gender. What is your Gender?', 'CurrentAge. Current Age',\n",
       "       'Employment Type. Employment Type', 'Classification. Classification',\n",
       "       'LengthofServiceOverall. Overall Length of Service at Institute (in years)',\n",
       "       'LengthofServiceCurrent. Length of Service at current workplace (in years)'],\n",
       "      dtype='object')"
      ]
     },
     "execution_count": 12,
     "metadata": {},
     "output_type": "execute_result"
    }
   ],
   "source": [
    "tafe_survey_updated.columns"
   ]
  },
  {
   "cell_type": "code",
   "execution_count": 13,
   "metadata": {},
   "outputs": [],
   "source": [
    "# Change tafe_survey column names into the following:\n",
    "\n",
    "mapping = {\n",
    "'Record ID': 'id',\n",
    "'CESSATION YEAR': 'cease_date',\n",
    "'Reason for ceasing employment': 'separationtype',\n",
    "'Gender. What is your Gender?': 'gender',\n",
    "'CurrentAge. Current Age': 'age',\n",
    "'Employment Type. Employment Type': 'employment_status',\n",
    "'Classification. Classification': 'position',\n",
    "'LengthofServiceOverall. Overall Length of Service at Institute (in years)': 'institute_service',\n",
    "'LengthofServiceCurrent. Length of Service at current workplace (in years)': 'role_service'\n",
    "}\n"
   ]
  },
  {
   "cell_type": "code",
   "execution_count": 14,
   "metadata": {
    "scrolled": true
   },
   "outputs": [
    {
     "data": {
      "text/plain": [
       "['id',\n",
       " 'cease_date',\n",
       " 'separationtype',\n",
       " 'gender',\n",
       " 'age',\n",
       " 'employment_status',\n",
       " 'position',\n",
       " 'institute_service',\n",
       " 'role_service']"
      ]
     },
     "execution_count": 14,
     "metadata": {},
     "output_type": "execute_result"
    }
   ],
   "source": [
    "tafe_survey_updated.rename(columns=mapping, inplace=True)\n",
    "\n",
    "changed_columns = []\n",
    "for k in mapping:\n",
    "    changed_columns.append(mapping[k])\n",
    "changed_columns"
   ]
  },
  {
   "cell_type": "code",
   "execution_count": 15,
   "metadata": {},
   "outputs": [
    {
     "data": {
      "text/html": [
       "<div>\n",
       "<style scoped>\n",
       "    .dataframe tbody tr th:only-of-type {\n",
       "        vertical-align: middle;\n",
       "    }\n",
       "\n",
       "    .dataframe tbody tr th {\n",
       "        vertical-align: top;\n",
       "    }\n",
       "\n",
       "    .dataframe thead th {\n",
       "        text-align: right;\n",
       "    }\n",
       "</style>\n",
       "<table border=\"1\" class=\"dataframe\">\n",
       "  <thead>\n",
       "    <tr style=\"text-align: right;\">\n",
       "      <th></th>\n",
       "      <th>id</th>\n",
       "      <th>cease_date</th>\n",
       "      <th>separationtype</th>\n",
       "      <th>gender</th>\n",
       "      <th>age</th>\n",
       "      <th>employment_status</th>\n",
       "      <th>position</th>\n",
       "      <th>institute_service</th>\n",
       "      <th>role_service</th>\n",
       "    </tr>\n",
       "  </thead>\n",
       "  <tbody>\n",
       "    <tr>\n",
       "      <th>0</th>\n",
       "      <td>6.341330e+17</td>\n",
       "      <td>2010.0</td>\n",
       "      <td>Contract Expired</td>\n",
       "      <td>Female</td>\n",
       "      <td>26  30</td>\n",
       "      <td>Temporary Full-time</td>\n",
       "      <td>Administration (AO)</td>\n",
       "      <td>1-2</td>\n",
       "      <td>1-2</td>\n",
       "    </tr>\n",
       "    <tr>\n",
       "      <th>1</th>\n",
       "      <td>6.341337e+17</td>\n",
       "      <td>2010.0</td>\n",
       "      <td>Retirement</td>\n",
       "      <td>NaN</td>\n",
       "      <td>NaN</td>\n",
       "      <td>NaN</td>\n",
       "      <td>NaN</td>\n",
       "      <td>NaN</td>\n",
       "      <td>NaN</td>\n",
       "    </tr>\n",
       "    <tr>\n",
       "      <th>2</th>\n",
       "      <td>6.341388e+17</td>\n",
       "      <td>2010.0</td>\n",
       "      <td>Retirement</td>\n",
       "      <td>NaN</td>\n",
       "      <td>NaN</td>\n",
       "      <td>NaN</td>\n",
       "      <td>NaN</td>\n",
       "      <td>NaN</td>\n",
       "      <td>NaN</td>\n",
       "    </tr>\n",
       "    <tr>\n",
       "      <th>3</th>\n",
       "      <td>6.341399e+17</td>\n",
       "      <td>2010.0</td>\n",
       "      <td>Resignation</td>\n",
       "      <td>NaN</td>\n",
       "      <td>NaN</td>\n",
       "      <td>NaN</td>\n",
       "      <td>NaN</td>\n",
       "      <td>NaN</td>\n",
       "      <td>NaN</td>\n",
       "    </tr>\n",
       "    <tr>\n",
       "      <th>4</th>\n",
       "      <td>6.341466e+17</td>\n",
       "      <td>2010.0</td>\n",
       "      <td>Resignation</td>\n",
       "      <td>Male</td>\n",
       "      <td>41  45</td>\n",
       "      <td>Permanent Full-time</td>\n",
       "      <td>Teacher (including LVT)</td>\n",
       "      <td>3-4</td>\n",
       "      <td>3-4</td>\n",
       "    </tr>\n",
       "  </tbody>\n",
       "</table>\n",
       "</div>"
      ],
      "text/plain": [
       "             id  cease_date    separationtype  gender     age  \\\n",
       "0  6.341330e+17      2010.0  Contract Expired  Female  26  30   \n",
       "1  6.341337e+17      2010.0        Retirement     NaN     NaN   \n",
       "2  6.341388e+17      2010.0        Retirement     NaN     NaN   \n",
       "3  6.341399e+17      2010.0       Resignation     NaN     NaN   \n",
       "4  6.341466e+17      2010.0       Resignation    Male  41  45   \n",
       "\n",
       "     employment_status                 position institute_service role_service  \n",
       "0  Temporary Full-time      Administration (AO)               1-2          1-2  \n",
       "1                  NaN                      NaN               NaN          NaN  \n",
       "2                  NaN                      NaN               NaN          NaN  \n",
       "3                  NaN                      NaN               NaN          NaN  \n",
       "4  Permanent Full-time  Teacher (including LVT)               3-4          3-4  "
      ]
     },
     "execution_count": 15,
     "metadata": {},
     "output_type": "execute_result"
    }
   ],
   "source": [
    "## Changed tafe survey columns \n",
    "tafe_survey_updated[changed_columns].head()"
   ]
  },
  {
   "cell_type": "code",
   "execution_count": 16,
   "metadata": {},
   "outputs": [
    {
     "data": {
      "text/html": [
       "<div>\n",
       "<style scoped>\n",
       "    .dataframe tbody tr th:only-of-type {\n",
       "        vertical-align: middle;\n",
       "    }\n",
       "\n",
       "    .dataframe tbody tr th {\n",
       "        vertical-align: top;\n",
       "    }\n",
       "\n",
       "    .dataframe thead th {\n",
       "        text-align: right;\n",
       "    }\n",
       "</style>\n",
       "<table border=\"1\" class=\"dataframe\">\n",
       "  <thead>\n",
       "    <tr style=\"text-align: right;\">\n",
       "      <th></th>\n",
       "      <th>id</th>\n",
       "      <th>separationtype</th>\n",
       "      <th>cease_date</th>\n",
       "      <th>dete_start_date</th>\n",
       "      <th>role_start_date</th>\n",
       "      <th>position</th>\n",
       "      <th>classification</th>\n",
       "      <th>region</th>\n",
       "      <th>business_unit</th>\n",
       "      <th>employment_status</th>\n",
       "      <th>career_move_to_public_sector</th>\n",
       "      <th>career_move_to_private_sector</th>\n",
       "      <th>interpersonal_conflicts</th>\n",
       "      <th>job_dissatisfaction</th>\n",
       "      <th>dissatisfaction_with_the_department</th>\n",
       "      <th>physical_work_environment</th>\n",
       "      <th>lack_of_recognition</th>\n",
       "      <th>lack_of_job_security</th>\n",
       "      <th>work_location</th>\n",
       "      <th>employment_conditions</th>\n",
       "      <th>maternity/family</th>\n",
       "      <th>relocation</th>\n",
       "      <th>study/travel</th>\n",
       "      <th>ill_health</th>\n",
       "      <th>traumatic_incident</th>\n",
       "      <th>work_life_balance</th>\n",
       "      <th>workload</th>\n",
       "      <th>none_of_the_above</th>\n",
       "      <th>gender</th>\n",
       "      <th>age</th>\n",
       "      <th>aboriginal</th>\n",
       "      <th>torres_strait</th>\n",
       "      <th>south_sea</th>\n",
       "      <th>disability</th>\n",
       "      <th>nesb</th>\n",
       "    </tr>\n",
       "  </thead>\n",
       "  <tbody>\n",
       "    <tr>\n",
       "      <th>0</th>\n",
       "      <td>1</td>\n",
       "      <td>Ill Health Retirement</td>\n",
       "      <td>08/2012</td>\n",
       "      <td>1984.0</td>\n",
       "      <td>2004.0</td>\n",
       "      <td>Public Servant</td>\n",
       "      <td>A01-A04</td>\n",
       "      <td>Central Office</td>\n",
       "      <td>Corporate Strategy and Peformance</td>\n",
       "      <td>Permanent Full-time</td>\n",
       "      <td>True</td>\n",
       "      <td>False</td>\n",
       "      <td>False</td>\n",
       "      <td>True</td>\n",
       "      <td>False</td>\n",
       "      <td>False</td>\n",
       "      <td>True</td>\n",
       "      <td>False</td>\n",
       "      <td>False</td>\n",
       "      <td>False</td>\n",
       "      <td>False</td>\n",
       "      <td>False</td>\n",
       "      <td>False</td>\n",
       "      <td>False</td>\n",
       "      <td>False</td>\n",
       "      <td>False</td>\n",
       "      <td>False</td>\n",
       "      <td>True</td>\n",
       "      <td>Male</td>\n",
       "      <td>56-60</td>\n",
       "      <td>NaN</td>\n",
       "      <td>NaN</td>\n",
       "      <td>NaN</td>\n",
       "      <td>NaN</td>\n",
       "      <td>Yes</td>\n",
       "    </tr>\n",
       "    <tr>\n",
       "      <th>1</th>\n",
       "      <td>2</td>\n",
       "      <td>Voluntary Early Retirement (VER)</td>\n",
       "      <td>08/2012</td>\n",
       "      <td>NaN</td>\n",
       "      <td>NaN</td>\n",
       "      <td>Public Servant</td>\n",
       "      <td>AO5-AO7</td>\n",
       "      <td>Central Office</td>\n",
       "      <td>Corporate Strategy and Peformance</td>\n",
       "      <td>Permanent Full-time</td>\n",
       "      <td>False</td>\n",
       "      <td>False</td>\n",
       "      <td>False</td>\n",
       "      <td>False</td>\n",
       "      <td>False</td>\n",
       "      <td>False</td>\n",
       "      <td>False</td>\n",
       "      <td>False</td>\n",
       "      <td>False</td>\n",
       "      <td>False</td>\n",
       "      <td>False</td>\n",
       "      <td>False</td>\n",
       "      <td>False</td>\n",
       "      <td>False</td>\n",
       "      <td>False</td>\n",
       "      <td>False</td>\n",
       "      <td>False</td>\n",
       "      <td>False</td>\n",
       "      <td>Male</td>\n",
       "      <td>56-60</td>\n",
       "      <td>NaN</td>\n",
       "      <td>NaN</td>\n",
       "      <td>NaN</td>\n",
       "      <td>NaN</td>\n",
       "      <td>NaN</td>\n",
       "    </tr>\n",
       "    <tr>\n",
       "      <th>2</th>\n",
       "      <td>3</td>\n",
       "      <td>Voluntary Early Retirement (VER)</td>\n",
       "      <td>05/2012</td>\n",
       "      <td>2011.0</td>\n",
       "      <td>2011.0</td>\n",
       "      <td>Schools Officer</td>\n",
       "      <td>NaN</td>\n",
       "      <td>Central Office</td>\n",
       "      <td>Education Queensland</td>\n",
       "      <td>Permanent Full-time</td>\n",
       "      <td>False</td>\n",
       "      <td>False</td>\n",
       "      <td>False</td>\n",
       "      <td>False</td>\n",
       "      <td>False</td>\n",
       "      <td>False</td>\n",
       "      <td>False</td>\n",
       "      <td>False</td>\n",
       "      <td>False</td>\n",
       "      <td>False</td>\n",
       "      <td>False</td>\n",
       "      <td>False</td>\n",
       "      <td>False</td>\n",
       "      <td>False</td>\n",
       "      <td>False</td>\n",
       "      <td>False</td>\n",
       "      <td>False</td>\n",
       "      <td>True</td>\n",
       "      <td>Male</td>\n",
       "      <td>61 or older</td>\n",
       "      <td>NaN</td>\n",
       "      <td>NaN</td>\n",
       "      <td>NaN</td>\n",
       "      <td>NaN</td>\n",
       "      <td>NaN</td>\n",
       "    </tr>\n",
       "    <tr>\n",
       "      <th>3</th>\n",
       "      <td>4</td>\n",
       "      <td>Resignation-Other reasons</td>\n",
       "      <td>05/2012</td>\n",
       "      <td>2005.0</td>\n",
       "      <td>2006.0</td>\n",
       "      <td>Teacher</td>\n",
       "      <td>Primary</td>\n",
       "      <td>Central Queensland</td>\n",
       "      <td>NaN</td>\n",
       "      <td>Permanent Full-time</td>\n",
       "      <td>False</td>\n",
       "      <td>True</td>\n",
       "      <td>False</td>\n",
       "      <td>False</td>\n",
       "      <td>False</td>\n",
       "      <td>False</td>\n",
       "      <td>False</td>\n",
       "      <td>False</td>\n",
       "      <td>False</td>\n",
       "      <td>False</td>\n",
       "      <td>False</td>\n",
       "      <td>False</td>\n",
       "      <td>False</td>\n",
       "      <td>False</td>\n",
       "      <td>False</td>\n",
       "      <td>False</td>\n",
       "      <td>False</td>\n",
       "      <td>False</td>\n",
       "      <td>Female</td>\n",
       "      <td>36-40</td>\n",
       "      <td>NaN</td>\n",
       "      <td>NaN</td>\n",
       "      <td>NaN</td>\n",
       "      <td>NaN</td>\n",
       "      <td>NaN</td>\n",
       "    </tr>\n",
       "    <tr>\n",
       "      <th>4</th>\n",
       "      <td>5</td>\n",
       "      <td>Age Retirement</td>\n",
       "      <td>05/2012</td>\n",
       "      <td>1970.0</td>\n",
       "      <td>1989.0</td>\n",
       "      <td>Head of Curriculum/Head of Special Education</td>\n",
       "      <td>NaN</td>\n",
       "      <td>South East</td>\n",
       "      <td>NaN</td>\n",
       "      <td>Permanent Full-time</td>\n",
       "      <td>False</td>\n",
       "      <td>False</td>\n",
       "      <td>False</td>\n",
       "      <td>False</td>\n",
       "      <td>False</td>\n",
       "      <td>False</td>\n",
       "      <td>False</td>\n",
       "      <td>False</td>\n",
       "      <td>False</td>\n",
       "      <td>False</td>\n",
       "      <td>False</td>\n",
       "      <td>False</td>\n",
       "      <td>False</td>\n",
       "      <td>False</td>\n",
       "      <td>False</td>\n",
       "      <td>True</td>\n",
       "      <td>False</td>\n",
       "      <td>False</td>\n",
       "      <td>Female</td>\n",
       "      <td>61 or older</td>\n",
       "      <td>NaN</td>\n",
       "      <td>NaN</td>\n",
       "      <td>NaN</td>\n",
       "      <td>NaN</td>\n",
       "      <td>NaN</td>\n",
       "    </tr>\n",
       "  </tbody>\n",
       "</table>\n",
       "</div>"
      ],
      "text/plain": [
       "   id                    separationtype cease_date  dete_start_date  \\\n",
       "0   1             Ill Health Retirement    08/2012           1984.0   \n",
       "1   2  Voluntary Early Retirement (VER)    08/2012              NaN   \n",
       "2   3  Voluntary Early Retirement (VER)    05/2012           2011.0   \n",
       "3   4         Resignation-Other reasons    05/2012           2005.0   \n",
       "4   5                    Age Retirement    05/2012           1970.0   \n",
       "\n",
       "   role_start_date                                      position  \\\n",
       "0           2004.0                                Public Servant   \n",
       "1              NaN                                Public Servant   \n",
       "2           2011.0                               Schools Officer   \n",
       "3           2006.0                                       Teacher   \n",
       "4           1989.0  Head of Curriculum/Head of Special Education   \n",
       "\n",
       "  classification              region                      business_unit  \\\n",
       "0        A01-A04      Central Office  Corporate Strategy and Peformance   \n",
       "1        AO5-AO7      Central Office  Corporate Strategy and Peformance   \n",
       "2            NaN      Central Office               Education Queensland   \n",
       "3        Primary  Central Queensland                                NaN   \n",
       "4            NaN          South East                                NaN   \n",
       "\n",
       "     employment_status  career_move_to_public_sector  \\\n",
       "0  Permanent Full-time                          True   \n",
       "1  Permanent Full-time                         False   \n",
       "2  Permanent Full-time                         False   \n",
       "3  Permanent Full-time                         False   \n",
       "4  Permanent Full-time                         False   \n",
       "\n",
       "   career_move_to_private_sector  interpersonal_conflicts  \\\n",
       "0                          False                    False   \n",
       "1                          False                    False   \n",
       "2                          False                    False   \n",
       "3                           True                    False   \n",
       "4                          False                    False   \n",
       "\n",
       "   job_dissatisfaction  dissatisfaction_with_the_department  \\\n",
       "0                 True                                False   \n",
       "1                False                                False   \n",
       "2                False                                False   \n",
       "3                False                                False   \n",
       "4                False                                False   \n",
       "\n",
       "   physical_work_environment  lack_of_recognition  lack_of_job_security  \\\n",
       "0                      False                 True                 False   \n",
       "1                      False                False                 False   \n",
       "2                      False                False                 False   \n",
       "3                      False                False                 False   \n",
       "4                      False                False                 False   \n",
       "\n",
       "   work_location  employment_conditions  maternity/family  relocation  \\\n",
       "0          False                  False             False       False   \n",
       "1          False                  False             False       False   \n",
       "2          False                  False             False       False   \n",
       "3          False                  False             False       False   \n",
       "4          False                  False             False       False   \n",
       "\n",
       "   study/travel  ill_health  traumatic_incident  work_life_balance  workload  \\\n",
       "0         False       False               False              False     False   \n",
       "1         False       False               False              False     False   \n",
       "2         False       False               False              False     False   \n",
       "3         False       False               False              False     False   \n",
       "4         False       False               False               True     False   \n",
       "\n",
       "   none_of_the_above  gender          age aboriginal torres_strait south_sea  \\\n",
       "0               True    Male        56-60        NaN           NaN       NaN   \n",
       "1              False    Male        56-60        NaN           NaN       NaN   \n",
       "2               True    Male  61 or older        NaN           NaN       NaN   \n",
       "3              False  Female        36-40        NaN           NaN       NaN   \n",
       "4              False  Female  61 or older        NaN           NaN       NaN   \n",
       "\n",
       "  disability nesb  \n",
       "0        NaN  Yes  \n",
       "1        NaN  NaN  \n",
       "2        NaN  NaN  \n",
       "3        NaN  NaN  \n",
       "4        NaN  NaN  "
      ]
     },
     "execution_count": 16,
     "metadata": {},
     "output_type": "execute_result"
    }
   ],
   "source": [
    "## Changed dete survey columns\n",
    "dete_survey_updated.head()"
   ]
  },
  {
   "cell_type": "markdown",
   "metadata": {},
   "source": [
    "#### You can see above that I matched some of the column names from dete_survey with tafe_survey since the data in those columns are of a similar context.\n",
    "\n"
   ]
  },
  {
   "cell_type": "markdown",
   "metadata": {},
   "source": [
    "# Separeting Data \n",
    "\n",
    "Let's eliminate the data based on 'separationtype' column.\n",
    "Specifically I will extract rows where 'separationtype' is due to resignation."
   ]
  },
  {
   "cell_type": "markdown",
   "metadata": {},
   "source": [
    "#### Eliminating tafe survey dataset:"
   ]
  },
  {
   "cell_type": "code",
   "execution_count": 17,
   "metadata": {},
   "outputs": [
    {
     "data": {
      "text/plain": [
       "Resignation                 340\n",
       "Contract Expired            127\n",
       "Retrenchment/ Redundancy    104\n",
       "Retirement                   82\n",
       "Transfer                     25\n",
       "Termination                  23\n",
       "Name: separationtype, dtype: int64"
      ]
     },
     "execution_count": 17,
     "metadata": {},
     "output_type": "execute_result"
    }
   ],
   "source": [
    "## Seperation types\n",
    "tafe_survey_updated['separationtype'].value_counts()"
   ]
  },
  {
   "cell_type": "code",
   "execution_count": 18,
   "metadata": {},
   "outputs": [
    {
     "data": {
      "text/plain": [
       "Resignation    340\n",
       "Name: separationtype, dtype: int64"
      ]
     },
     "execution_count": 18,
     "metadata": {},
     "output_type": "execute_result"
    }
   ],
   "source": [
    "## Select the rows that are related to resignation tafe_survey:\n",
    "## I inserted \".copy()\" at the end of the code to avoid slicing warnings when dealing with the sliced dataset.\n",
    "\n",
    "tafe_resignation = tafe_survey_updated[tafe_survey_updated['separationtype'] == 'Resignation'].copy()\n",
    "\n",
    "## Dataset after elimination\n",
    "tafe_resignation['separationtype'].value_counts(dropna=False)"
   ]
  },
  {
   "cell_type": "markdown",
   "metadata": {},
   "source": [
    "#### Eliminating defe survey dataset:"
   ]
  },
  {
   "cell_type": "code",
   "execution_count": 19,
   "metadata": {},
   "outputs": [
    {
     "data": {
      "text/plain": [
       "Age Retirement                          285\n",
       "Resignation-Other reasons               150\n",
       "Resignation-Other employer               91\n",
       "Resignation-Move overseas/interstate     70\n",
       "Voluntary Early Retirement (VER)         67\n",
       "Ill Health Retirement                    61\n",
       "Other                                    49\n",
       "Contract Expired                         34\n",
       "Termination                              15\n",
       "Name: separationtype, dtype: int64"
      ]
     },
     "execution_count": 19,
     "metadata": {},
     "output_type": "execute_result"
    }
   ],
   "source": [
    "## Seperation types\n",
    "dete_survey_updated['separationtype'].value_counts()"
   ]
  },
  {
   "cell_type": "code",
   "execution_count": 20,
   "metadata": {},
   "outputs": [
    {
     "data": {
      "text/plain": [
       "Resignation                         311\n",
       "Age Retirement                      285\n",
       "Voluntary Early Retirement (VER)     67\n",
       "Ill Health Retirement                61\n",
       "Other                                49\n",
       "Contract Expired                     34\n",
       "Termination                          15\n",
       "Name: separationtype, dtype: int64"
      ]
     },
     "execution_count": 20,
     "metadata": {},
     "output_type": "execute_result"
    }
   ],
   "source": [
    "## As you can see above there are three 'resignation' types which I'm going to group into one 'resignation'\n",
    "\n",
    "dete_survey_updated['separationtype'] = dete_survey_updated['separationtype'].map(lambda x: \"Resignation\" if \"Resignation\" in x else x)\n",
    "\n",
    "## Alternative ways to do the same thing:\n",
    "## dete_survey_updated['separationtype'] = dete_survey_updated['separationtype'].str.split('-').str[0]\n",
    "## dete_survey_updated[dete_survey_updated['separationtype'].isin(['Resignation-Other reasons', 'Resignation-Other employer','Resignation-Move overseas/interstate'])]\n",
    "\n",
    "dete_survey_updated['separationtype'].value_counts()"
   ]
  },
  {
   "cell_type": "code",
   "execution_count": 21,
   "metadata": {},
   "outputs": [],
   "source": [
    "# Above you can see that there is only one resignation type instead of three\n",
    "# Select the rows that are related to resignation in dete_survey:\n",
    "\n",
    "dete_resignation = dete_survey_updated[dete_survey_updated['separationtype'] == 'Resignation'].copy()"
   ]
  },
  {
   "cell_type": "code",
   "execution_count": 22,
   "metadata": {},
   "outputs": [
    {
     "data": {
      "text/plain": [
       "Resignation    311\n",
       "Name: separationtype, dtype: int64"
      ]
     },
     "execution_count": 22,
     "metadata": {},
     "output_type": "execute_result"
    }
   ],
   "source": [
    "## Dataset after elimination\n",
    "dete_resignation['separationtype'].value_counts()"
   ]
  },
  {
   "cell_type": "markdown",
   "metadata": {},
   "source": [
    "# Start and End Dates\n",
    "\n",
    "Now that I was able to select the resignation rows only, let's make sure the date columns are appropriately formatted. I will need start and end dates to calculate years worked (service years). Tefe dataset already has this column whereas dete doesn't which means I have to create one for dete.\n",
    "\n",
    "\n",
    "* 'start_date' - start of employment\n",
    "\n",
    "* 'cease_date' - end of employment\n"
   ]
  },
  {
   "cell_type": "markdown",
   "metadata": {},
   "source": [
    "#### Date columns in dete dataset:"
   ]
  },
  {
   "cell_type": "code",
   "execution_count": 23,
   "metadata": {},
   "outputs": [
    {
     "data": {
      "text/html": [
       "<div>\n",
       "<style scoped>\n",
       "    .dataframe tbody tr th:only-of-type {\n",
       "        vertical-align: middle;\n",
       "    }\n",
       "\n",
       "    .dataframe tbody tr th {\n",
       "        vertical-align: top;\n",
       "    }\n",
       "\n",
       "    .dataframe thead th {\n",
       "        text-align: right;\n",
       "    }\n",
       "</style>\n",
       "<table border=\"1\" class=\"dataframe\">\n",
       "  <thead>\n",
       "    <tr style=\"text-align: right;\">\n",
       "      <th></th>\n",
       "      <th>dete_start_date</th>\n",
       "      <th>cease_date</th>\n",
       "    </tr>\n",
       "  </thead>\n",
       "  <tbody>\n",
       "    <tr>\n",
       "      <th>3</th>\n",
       "      <td>2005.0</td>\n",
       "      <td>05/2012</td>\n",
       "    </tr>\n",
       "    <tr>\n",
       "      <th>5</th>\n",
       "      <td>1994.0</td>\n",
       "      <td>05/2012</td>\n",
       "    </tr>\n",
       "    <tr>\n",
       "      <th>8</th>\n",
       "      <td>2009.0</td>\n",
       "      <td>07/2012</td>\n",
       "    </tr>\n",
       "    <tr>\n",
       "      <th>9</th>\n",
       "      <td>1997.0</td>\n",
       "      <td>2012</td>\n",
       "    </tr>\n",
       "    <tr>\n",
       "      <th>11</th>\n",
       "      <td>2009.0</td>\n",
       "      <td>2012</td>\n",
       "    </tr>\n",
       "    <tr>\n",
       "      <th>...</th>\n",
       "      <td>...</td>\n",
       "      <td>...</td>\n",
       "    </tr>\n",
       "    <tr>\n",
       "      <th>808</th>\n",
       "      <td>2010.0</td>\n",
       "      <td>12/2013</td>\n",
       "    </tr>\n",
       "    <tr>\n",
       "      <th>815</th>\n",
       "      <td>2012.0</td>\n",
       "      <td>01/2014</td>\n",
       "    </tr>\n",
       "    <tr>\n",
       "      <th>816</th>\n",
       "      <td>2012.0</td>\n",
       "      <td>01/2014</td>\n",
       "    </tr>\n",
       "    <tr>\n",
       "      <th>819</th>\n",
       "      <td>2009.0</td>\n",
       "      <td>01/2014</td>\n",
       "    </tr>\n",
       "    <tr>\n",
       "      <th>821</th>\n",
       "      <td>NaN</td>\n",
       "      <td>12/2013</td>\n",
       "    </tr>\n",
       "  </tbody>\n",
       "</table>\n",
       "<p>311 rows × 2 columns</p>\n",
       "</div>"
      ],
      "text/plain": [
       "     dete_start_date cease_date\n",
       "3             2005.0    05/2012\n",
       "5             1994.0    05/2012\n",
       "8             2009.0    07/2012\n",
       "9             1997.0       2012\n",
       "11            2009.0       2012\n",
       "..               ...        ...\n",
       "808           2010.0    12/2013\n",
       "815           2012.0    01/2014\n",
       "816           2012.0    01/2014\n",
       "819           2009.0    01/2014\n",
       "821              NaN    12/2013\n",
       "\n",
       "[311 rows x 2 columns]"
      ]
     },
     "execution_count": 23,
     "metadata": {},
     "output_type": "execute_result"
    }
   ],
   "source": [
    "dete_resignation[['dete_start_date','cease_date']]"
   ]
  },
  {
   "cell_type": "code",
   "execution_count": 24,
   "metadata": {
    "scrolled": true
   },
   "outputs": [
    {
     "data": {
      "text/plain": [
       "01/2014     22\n",
       "05/2012      2\n",
       "05/2013      2\n",
       "06/2013     14\n",
       "07/2006      1\n",
       "07/2012      1\n",
       "07/2013      9\n",
       "08/2013      4\n",
       "09/2010      1\n",
       "09/2013     11\n",
       "10/2013      6\n",
       "11/2013      9\n",
       "12/2013     17\n",
       "2010         1\n",
       "2012       126\n",
       "2013        74\n",
       "NaN         11\n",
       "Name: cease_date, dtype: int64"
      ]
     },
     "execution_count": 24,
     "metadata": {},
     "output_type": "execute_result"
    }
   ],
   "source": [
    "## Unique values in the 'cease_date' column\n",
    "dete_resignation['cease_date'].value_counts(dropna=False).sort_index()"
   ]
  },
  {
   "cell_type": "code",
   "execution_count": 25,
   "metadata": {},
   "outputs": [],
   "source": [
    "## Now I'm going to extract only years from string \"MM/YYYY\"\n",
    "## Convery the column into float datatype since I have NaN values in the column (int can't have NaN values)\n",
    "## Below you can see a few ways to complete this task\n",
    "\n",
    "dete_resignation['cease_date'] = dete_resignation['cease_date'].map(lambda x: x.split('/')[1] if '/' in str(x) else x)\n",
    "dete_resignation['cease_date'] = dete_resignation['cease_date'].astype(float)\n",
    "\n",
    "#dete_resignation['cease_date'] = dete_resignation['cease_date'].str.split('/').str[-1].astype(float)  \n",
    "#dete_resignation['cease_date'] = dete_resignation['cease_date'].str.extract(r\"([0-9]{4})\", expand=False).astype(float)\n"
   ]
  },
  {
   "cell_type": "code",
   "execution_count": 26,
   "metadata": {},
   "outputs": [
    {
     "data": {
      "text/plain": [
       "2006.0      1\n",
       "2010.0      2\n",
       "2012.0    129\n",
       "2013.0    146\n",
       "2014.0     22\n",
       "Name: cease_date, dtype: int64"
      ]
     },
     "execution_count": 26,
     "metadata": {},
     "output_type": "execute_result"
    }
   ],
   "source": [
    "## Cease date values after transformation\n",
    "dete_resignation['cease_date'].value_counts().sort_index()"
   ]
  },
  {
   "cell_type": "code",
   "execution_count": 27,
   "metadata": {},
   "outputs": [
    {
     "data": {
      "text/plain": [
       "1963.0     1\n",
       "1971.0     1\n",
       "1972.0     1\n",
       "1973.0     1\n",
       "1974.0     2\n",
       "1975.0     1\n",
       "1976.0     2\n",
       "1977.0     1\n",
       "1980.0     5\n",
       "1982.0     1\n",
       "1983.0     2\n",
       "1984.0     1\n",
       "1985.0     3\n",
       "1986.0     3\n",
       "1987.0     1\n",
       "1988.0     4\n",
       "1989.0     4\n",
       "1990.0     5\n",
       "1991.0     4\n",
       "1992.0     6\n",
       "1993.0     5\n",
       "1994.0     6\n",
       "1995.0     4\n",
       "1996.0     6\n",
       "1997.0     5\n",
       "1998.0     6\n",
       "1999.0     8\n",
       "2000.0     9\n",
       "2001.0     3\n",
       "2002.0     6\n",
       "2003.0     6\n",
       "2004.0    14\n",
       "2005.0    15\n",
       "2006.0    13\n",
       "2007.0    21\n",
       "2008.0    22\n",
       "2009.0    13\n",
       "2010.0    17\n",
       "2011.0    24\n",
       "2012.0    21\n",
       "2013.0    10\n",
       "Name: dete_start_date, dtype: int64"
      ]
     },
     "execution_count": 27,
     "metadata": {},
     "output_type": "execute_result"
    }
   ],
   "source": [
    "## Let's make sure start date doesn't have any wrong formatting like the cease date\n",
    "dete_resignation['dete_start_date'].value_counts().sort_index()"
   ]
  },
  {
   "cell_type": "code",
   "execution_count": 28,
   "metadata": {},
   "outputs": [
    {
     "data": {
      "text/plain": [
       "5.0     23\n",
       "1.0     22\n",
       "3.0     20\n",
       "0.0     20\n",
       "6.0     17\n",
       "4.0     16\n",
       "9.0     14\n",
       "2.0     14\n",
       "7.0     13\n",
       "13.0     8\n",
       "8.0      8\n",
       "20.0     7\n",
       "15.0     7\n",
       "10.0     6\n",
       "22.0     6\n",
       "14.0     6\n",
       "17.0     6\n",
       "12.0     6\n",
       "16.0     5\n",
       "18.0     5\n",
       "23.0     4\n",
       "11.0     4\n",
       "24.0     4\n",
       "39.0     3\n",
       "19.0     3\n",
       "21.0     3\n",
       "32.0     3\n",
       "28.0     2\n",
       "26.0     2\n",
       "25.0     2\n",
       "30.0     2\n",
       "36.0     2\n",
       "29.0     1\n",
       "33.0     1\n",
       "42.0     1\n",
       "27.0     1\n",
       "41.0     1\n",
       "35.0     1\n",
       "38.0     1\n",
       "34.0     1\n",
       "49.0     1\n",
       "31.0     1\n",
       "Name: institute_service, dtype: int64"
      ]
     },
     "execution_count": 28,
     "metadata": {},
     "output_type": "execute_result"
    }
   ],
   "source": [
    "## As you can see above formatting in start date looks right\n",
    "## Now lets calculate the difference between start and end dates to find the years worked\n",
    "\n",
    "dete_resignation['institute_service'] = dete_resignation['cease_date'] - dete_resignation['dete_start_date']\n",
    "dete_resignation['institute_service'].value_counts()"
   ]
  },
  {
   "cell_type": "markdown",
   "metadata": {},
   "source": [
    "#### There is already 'institute_service' column in 'tafe_resignation' dataset. It means that I don't have to find the difference between start and end dates in 'tafe_resignation' dataset."
   ]
  },
  {
   "cell_type": "markdown",
   "metadata": {},
   "source": [
    "# Dissatisfaction columns\n",
    "\n",
    "Now I will select the rows where resignation is related to dissatisfaction.\n",
    "I will perform the elimination for both datasets."
   ]
  },
  {
   "cell_type": "markdown",
   "metadata": {},
   "source": [
    "#### Tafe dataset:"
   ]
  },
  {
   "cell_type": "code",
   "execution_count": 29,
   "metadata": {},
   "outputs": [
    {
     "data": {
      "text/plain": [
       "-                                         277\n",
       "Contributing Factors. Dissatisfaction      55\n",
       "Name: Contributing Factors. Dissatisfaction, dtype: int64"
      ]
     },
     "execution_count": 29,
     "metadata": {},
     "output_type": "execute_result"
    }
   ],
   "source": [
    "tafe_resignation['Contributing Factors. Dissatisfaction'].value_counts()"
   ]
  },
  {
   "cell_type": "code",
   "execution_count": 30,
   "metadata": {},
   "outputs": [
    {
     "data": {
      "text/plain": [
       "-                      270\n",
       "Job Dissatisfaction     62\n",
       "NaN                      8\n",
       "Name: Contributing Factors. Job Dissatisfaction, dtype: int64"
      ]
     },
     "execution_count": 30,
     "metadata": {},
     "output_type": "execute_result"
    }
   ],
   "source": [
    "tafe_resignation['Contributing Factors. Job Dissatisfaction'].value_counts(dropna=False)"
   ]
  },
  {
   "cell_type": "markdown",
   "metadata": {},
   "source": [
    "As you can see above, there are two columns in tafe_resignation that show whether employees were dissatisfied or no. Now I'm going to create a function that will return false for '-' values and true for any other values. \n",
    "\n",
    "* False = not dissatisfied\n",
    "\n",
    "* True = dissatisfied"
   ]
  },
  {
   "cell_type": "code",
   "execution_count": 31,
   "metadata": {},
   "outputs": [],
   "source": [
    "def update(element):\n",
    "    if pd.isnull(element):\n",
    "        return element\n",
    "    elif element == '-':\n",
    "        return False\n",
    "    else:\n",
    "        return True"
   ]
  },
  {
   "cell_type": "code",
   "execution_count": 32,
   "metadata": {},
   "outputs": [
    {
     "data": {
      "text/plain": [
       "False    241\n",
       "True      91\n",
       "NaN        8\n",
       "Name: dissatisfied, dtype: int64"
      ]
     },
     "execution_count": 32,
     "metadata": {},
     "output_type": "execute_result"
    }
   ],
   "source": [
    "## Assigning two column names to variable 'factors'\n",
    "factors = ['Contributing Factors. Dissatisfaction','Contributing Factors. Job Dissatisfaction']\n",
    "\n",
    "## After applying the function, I will use pd.DataFrame.any() to calculate the result between two values (True, False)\n",
    "tafe_resignation['dissatisfied'] = tafe_resignation[factors].applymap(update).any(skipna=False, axis=1).copy()\n",
    "tafe_resignation['dissatisfied'].value_counts(dropna=False)\n"
   ]
  },
  {
   "cell_type": "markdown",
   "metadata": {},
   "source": [
    "#### Dete dataset:"
   ]
  },
  {
   "cell_type": "markdown",
   "metadata": {},
   "source": [
    "Now that tafe dataset has the boolean values for 'dissatisfied' column, let's do the same for dete dataset.\n",
    "\n",
    "Note that dete dataset already has bunch of boolean columns that contain information attributing to somewhat dissatisfaction. "
   ]
  },
  {
   "cell_type": "code",
   "execution_count": 33,
   "metadata": {},
   "outputs": [
    {
     "data": {
      "text/html": [
       "<div>\n",
       "<style scoped>\n",
       "    .dataframe tbody tr th:only-of-type {\n",
       "        vertical-align: middle;\n",
       "    }\n",
       "\n",
       "    .dataframe tbody tr th {\n",
       "        vertical-align: top;\n",
       "    }\n",
       "\n",
       "    .dataframe thead th {\n",
       "        text-align: right;\n",
       "    }\n",
       "</style>\n",
       "<table border=\"1\" class=\"dataframe\">\n",
       "  <thead>\n",
       "    <tr style=\"text-align: right;\">\n",
       "      <th></th>\n",
       "      <th>job_dissatisfaction</th>\n",
       "      <th>dissatisfaction_with_the_department</th>\n",
       "      <th>physical_work_environment</th>\n",
       "      <th>lack_of_recognition</th>\n",
       "      <th>lack_of_job_security</th>\n",
       "      <th>work_location</th>\n",
       "      <th>employment_conditions</th>\n",
       "      <th>work_life_balance</th>\n",
       "      <th>workload</th>\n",
       "    </tr>\n",
       "  </thead>\n",
       "  <tbody>\n",
       "    <tr>\n",
       "      <th>3</th>\n",
       "      <td>False</td>\n",
       "      <td>False</td>\n",
       "      <td>False</td>\n",
       "      <td>False</td>\n",
       "      <td>False</td>\n",
       "      <td>False</td>\n",
       "      <td>False</td>\n",
       "      <td>False</td>\n",
       "      <td>False</td>\n",
       "    </tr>\n",
       "    <tr>\n",
       "      <th>5</th>\n",
       "      <td>False</td>\n",
       "      <td>False</td>\n",
       "      <td>False</td>\n",
       "      <td>False</td>\n",
       "      <td>False</td>\n",
       "      <td>False</td>\n",
       "      <td>True</td>\n",
       "      <td>False</td>\n",
       "      <td>False</td>\n",
       "    </tr>\n",
       "    <tr>\n",
       "      <th>8</th>\n",
       "      <td>False</td>\n",
       "      <td>False</td>\n",
       "      <td>False</td>\n",
       "      <td>False</td>\n",
       "      <td>False</td>\n",
       "      <td>False</td>\n",
       "      <td>False</td>\n",
       "      <td>False</td>\n",
       "      <td>False</td>\n",
       "    </tr>\n",
       "    <tr>\n",
       "      <th>9</th>\n",
       "      <td>True</td>\n",
       "      <td>True</td>\n",
       "      <td>False</td>\n",
       "      <td>False</td>\n",
       "      <td>False</td>\n",
       "      <td>False</td>\n",
       "      <td>False</td>\n",
       "      <td>False</td>\n",
       "      <td>False</td>\n",
       "    </tr>\n",
       "    <tr>\n",
       "      <th>11</th>\n",
       "      <td>False</td>\n",
       "      <td>False</td>\n",
       "      <td>False</td>\n",
       "      <td>False</td>\n",
       "      <td>False</td>\n",
       "      <td>False</td>\n",
       "      <td>False</td>\n",
       "      <td>False</td>\n",
       "      <td>False</td>\n",
       "    </tr>\n",
       "  </tbody>\n",
       "</table>\n",
       "</div>"
      ],
      "text/plain": [
       "    job_dissatisfaction  dissatisfaction_with_the_department  \\\n",
       "3                 False                                False   \n",
       "5                 False                                False   \n",
       "8                 False                                False   \n",
       "9                  True                                 True   \n",
       "11                False                                False   \n",
       "\n",
       "    physical_work_environment  lack_of_recognition  lack_of_job_security  \\\n",
       "3                       False                False                 False   \n",
       "5                       False                False                 False   \n",
       "8                       False                False                 False   \n",
       "9                       False                False                 False   \n",
       "11                      False                False                 False   \n",
       "\n",
       "    work_location  employment_conditions  work_life_balance  workload  \n",
       "3           False                  False              False     False  \n",
       "5           False                   True              False     False  \n",
       "8           False                  False              False     False  \n",
       "9           False                  False              False     False  \n",
       "11          False                  False              False     False  "
      ]
     },
     "execution_count": 33,
     "metadata": {},
     "output_type": "execute_result"
    }
   ],
   "source": [
    "# Let's check the content of those columns \n",
    "dissatisfaction_columns = ['job_dissatisfaction', \n",
    "                           'dissatisfaction_with_the_department',\n",
    "                           'physical_work_environment',\n",
    "                           'lack_of_recognition',\n",
    "                           'lack_of_job_security',\n",
    "                           'work_location',\n",
    "                           'employment_conditions',\n",
    "                           'work_life_balance',\n",
    "                           'workload'\n",
    "                          ]\n",
    "dete_resignation[dissatisfaction_columns].head()"
   ]
  },
  {
   "cell_type": "code",
   "execution_count": 34,
   "metadata": {},
   "outputs": [
    {
     "data": {
      "text/plain": [
       "False    162\n",
       "True     149\n",
       "Name: dissatisfied, dtype: int64"
      ]
     },
     "execution_count": 34,
     "metadata": {},
     "output_type": "execute_result"
    }
   ],
   "source": [
    "## I'm going to use pd.DataFrame.any() to calculate whether employee is dissatisfied \n",
    "## If there is one True in any columns horizontally then employee was dissatisfied \n",
    "dete_resignation['dissatisfied'] = dete_resignation[dissatisfaction_columns].any(axis=1, skipna=False)\n",
    "dete_resignation['dissatisfied'].value_counts(dropna=False)\n"
   ]
  },
  {
   "cell_type": "markdown",
   "metadata": {},
   "source": [
    "# Combining the datasets:"
   ]
  },
  {
   "cell_type": "code",
   "execution_count": 35,
   "metadata": {},
   "outputs": [],
   "source": [
    "## In order to distinguish each dataset after I combine them, I'm going to create institute column.\n",
    "dete_resignation['institute'] = 'DETE'\n",
    "tafe_resignation['institute'] = 'TAFE'"
   ]
  },
  {
   "cell_type": "code",
   "execution_count": 36,
   "metadata": {},
   "outputs": [],
   "source": [
    "## Lets combined the datasets\n",
    "combined = pd.concat([dete_resignation, tafe_resignation], axis=0)"
   ]
  },
  {
   "cell_type": "code",
   "execution_count": 37,
   "metadata": {},
   "outputs": [
    {
     "name": "stdout",
     "output_type": "stream",
     "text": [
      "<class 'pandas.core.frame.DataFrame'>\n",
      "Int64Index: 651 entries, 3 to 701\n",
      "Data columns (total 53 columns):\n",
      " #   Column                                               Non-Null Count  Dtype  \n",
      "---  ------                                               --------------  -----  \n",
      " 0   id                                                   651 non-null    float64\n",
      " 1   separationtype                                       651 non-null    object \n",
      " 2   cease_date                                           635 non-null    float64\n",
      " 3   dete_start_date                                      283 non-null    float64\n",
      " 4   role_start_date                                      271 non-null    float64\n",
      " 5   position                                             598 non-null    object \n",
      " 6   classification                                       161 non-null    object \n",
      " 7   region                                               265 non-null    object \n",
      " 8   business_unit                                        32 non-null     object \n",
      " 9   employment_status                                    597 non-null    object \n",
      " 10  career_move_to_public_sector                         311 non-null    object \n",
      " 11  career_move_to_private_sector                        311 non-null    object \n",
      " 12  interpersonal_conflicts                              311 non-null    object \n",
      " 13  job_dissatisfaction                                  311 non-null    object \n",
      " 14  dissatisfaction_with_the_department                  311 non-null    object \n",
      " 15  physical_work_environment                            311 non-null    object \n",
      " 16  lack_of_recognition                                  311 non-null    object \n",
      " 17  lack_of_job_security                                 311 non-null    object \n",
      " 18  work_location                                        311 non-null    object \n",
      " 19  employment_conditions                                311 non-null    object \n",
      " 20  maternity/family                                     311 non-null    object \n",
      " 21  relocation                                           311 non-null    object \n",
      " 22  study/travel                                         311 non-null    object \n",
      " 23  ill_health                                           311 non-null    object \n",
      " 24  traumatic_incident                                   311 non-null    object \n",
      " 25  work_life_balance                                    311 non-null    object \n",
      " 26  workload                                             311 non-null    object \n",
      " 27  none_of_the_above                                    311 non-null    object \n",
      " 28  gender                                               592 non-null    object \n",
      " 29  age                                                  596 non-null    object \n",
      " 30  aboriginal                                           7 non-null      object \n",
      " 31  torres_strait                                        0 non-null      object \n",
      " 32  south_sea                                            3 non-null      object \n",
      " 33  disability                                           8 non-null      object \n",
      " 34  nesb                                                 9 non-null      object \n",
      " 35  institute_service                                    563 non-null    object \n",
      " 36  dissatisfied                                         643 non-null    object \n",
      " 37  institute                                            651 non-null    object \n",
      " 38  Institute                                            340 non-null    object \n",
      " 39  WorkArea                                             340 non-null    object \n",
      " 40  Contributing Factors. Career Move - Public Sector    332 non-null    object \n",
      " 41  Contributing Factors. Career Move - Private Sector   332 non-null    object \n",
      " 42  Contributing Factors. Career Move - Self-employment  332 non-null    object \n",
      " 43  Contributing Factors. Ill Health                     332 non-null    object \n",
      " 44  Contributing Factors. Maternity/Family               332 non-null    object \n",
      " 45  Contributing Factors. Dissatisfaction                332 non-null    object \n",
      " 46  Contributing Factors. Job Dissatisfaction            332 non-null    object \n",
      " 47  Contributing Factors. Interpersonal Conflict         332 non-null    object \n",
      " 48  Contributing Factors. Study                          332 non-null    object \n",
      " 49  Contributing Factors. Travel                         332 non-null    object \n",
      " 50  Contributing Factors. Other                          332 non-null    object \n",
      " 51  Contributing Factors. NONE                           332 non-null    object \n",
      " 52  role_service                                         290 non-null    object \n",
      "dtypes: float64(4), object(49)\n",
      "memory usage: 274.6+ KB\n"
     ]
    }
   ],
   "source": [
    "combined.info()"
   ]
  },
  {
   "cell_type": "markdown",
   "metadata": {},
   "source": [
    "# Drop columns\n",
    "\n",
    "Lets drop columns that have we dont need for our analysis"
   ]
  },
  {
   "cell_type": "code",
   "execution_count": 38,
   "metadata": {},
   "outputs": [
    {
     "data": {
      "text/plain": [
       "id                                                     651\n",
       "institute                                              651\n",
       "separationtype                                         651\n",
       "dissatisfied                                           643\n",
       "cease_date                                             635\n",
       "position                                               598\n",
       "employment_status                                      597\n",
       "age                                                    596\n",
       "gender                                                 592\n",
       "institute_service                                      563\n",
       "WorkArea                                               340\n",
       "Institute                                              340\n",
       "Contributing Factors. Study                            332\n",
       "Contributing Factors. NONE                             332\n",
       "Contributing Factors. Interpersonal Conflict           332\n",
       "Contributing Factors. Other                            332\n",
       "Contributing Factors. Dissatisfaction                  332\n",
       "Contributing Factors. Career Move - Public Sector      332\n",
       "Contributing Factors. Career Move - Private Sector     332\n",
       "Contributing Factors. Career Move - Self-employment    332\n",
       "Contributing Factors. Ill Health                       332\n",
       "Contributing Factors. Maternity/Family                 332\n",
       "Contributing Factors. Travel                           332\n",
       "Contributing Factors. Job Dissatisfaction              332\n",
       "job_dissatisfaction                                    311\n",
       "lack_of_recognition                                    311\n",
       "physical_work_environment                              311\n",
       "dissatisfaction_with_the_department                    311\n",
       "work_location                                          311\n",
       "interpersonal_conflicts                                311\n",
       "career_move_to_private_sector                          311\n",
       "career_move_to_public_sector                           311\n",
       "lack_of_job_security                                   311\n",
       "workload                                               311\n",
       "employment_conditions                                  311\n",
       "maternity/family                                       311\n",
       "relocation                                             311\n",
       "study/travel                                           311\n",
       "ill_health                                             311\n",
       "traumatic_incident                                     311\n",
       "work_life_balance                                      311\n",
       "none_of_the_above                                      311\n",
       "role_service                                           290\n",
       "dete_start_date                                        283\n",
       "role_start_date                                        271\n",
       "region                                                 265\n",
       "classification                                         161\n",
       "business_unit                                           32\n",
       "nesb                                                     9\n",
       "disability                                               8\n",
       "aboriginal                                               7\n",
       "south_sea                                                3\n",
       "torres_strait                                            0\n",
       "dtype: int64"
      ]
     },
     "execution_count": 38,
     "metadata": {},
     "output_type": "execute_result"
    }
   ],
   "source": [
    "combined.notnull().sum().sort_values(ascending=False)"
   ]
  },
  {
   "cell_type": "code",
   "execution_count": 39,
   "metadata": {},
   "outputs": [],
   "source": [
    "## I'm going to drop columns that have less than 500 non-NaN values\n",
    "combined.dropna(axis=1, thresh=500, inplace=True)"
   ]
  },
  {
   "cell_type": "code",
   "execution_count": 40,
   "metadata": {},
   "outputs": [
    {
     "data": {
      "text/plain": [
       "institute            651\n",
       "separationtype       651\n",
       "id                   651\n",
       "dissatisfied         643\n",
       "cease_date           635\n",
       "position             598\n",
       "employment_status    597\n",
       "age                  596\n",
       "gender               592\n",
       "institute_service    563\n",
       "dtype: int64"
      ]
     },
     "execution_count": 40,
     "metadata": {},
     "output_type": "execute_result"
    }
   ],
   "source": [
    "combined.notnull().sum().sort_values(ascending=False)"
   ]
  },
  {
   "cell_type": "code",
   "execution_count": 41,
   "metadata": {},
   "outputs": [
    {
     "name": "stdout",
     "output_type": "stream",
     "text": [
      "<class 'pandas.core.frame.DataFrame'>\n",
      "Int64Index: 651 entries, 3 to 701\n",
      "Data columns (total 10 columns):\n",
      " #   Column             Non-Null Count  Dtype  \n",
      "---  ------             --------------  -----  \n",
      " 0   id                 651 non-null    float64\n",
      " 1   separationtype     651 non-null    object \n",
      " 2   cease_date         635 non-null    float64\n",
      " 3   position           598 non-null    object \n",
      " 4   employment_status  597 non-null    object \n",
      " 5   gender             592 non-null    object \n",
      " 6   age                596 non-null    object \n",
      " 7   institute_service  563 non-null    object \n",
      " 8   dissatisfied       643 non-null    object \n",
      " 9   institute          651 non-null    object \n",
      "dtypes: float64(2), object(8)\n",
      "memory usage: 55.9+ KB\n"
     ]
    }
   ],
   "source": [
    "## Let's inspect our new combined dataset\n",
    "combined.info()"
   ]
  },
  {
   "cell_type": "markdown",
   "metadata": {},
   "source": [
    "# Clean 'institute_service' column\n",
    "\n",
    "Note that institute service column for dete dataset was created by finding a difference between start and end date whereas tafe dataset already contained institute service column. However, it was not 'cleaned'. After combining 'cleaned' and not 'cleaned' institute service columns we have to clean it again.\n",
    "Let's clean 'institute_service' column and convert it into numberic data type."
   ]
  },
  {
   "cell_type": "code",
   "execution_count": 42,
   "metadata": {},
   "outputs": [
    {
     "data": {
      "text/plain": [
       "NaN                   88\n",
       "Less than 1 year      73\n",
       "1-2                   64\n",
       "3-4                   63\n",
       "5-6                   33\n",
       "11-20                 26\n",
       "5.0                   23\n",
       "1.0                   22\n",
       "7-10                  21\n",
       "0.0                   20\n",
       "3.0                   20\n",
       "6.0                   17\n",
       "4.0                   16\n",
       "9.0                   14\n",
       "2.0                   14\n",
       "7.0                   13\n",
       "More than 20 years    10\n",
       "8.0                    8\n",
       "13.0                   8\n",
       "15.0                   7\n",
       "20.0                   7\n",
       "10.0                   6\n",
       "12.0                   6\n",
       "14.0                   6\n",
       "22.0                   6\n",
       "17.0                   6\n",
       "18.0                   5\n",
       "16.0                   5\n",
       "11.0                   4\n",
       "23.0                   4\n",
       "24.0                   4\n",
       "19.0                   3\n",
       "39.0                   3\n",
       "32.0                   3\n",
       "21.0                   3\n",
       "26.0                   2\n",
       "28.0                   2\n",
       "30.0                   2\n",
       "36.0                   2\n",
       "25.0                   2\n",
       "27.0                   1\n",
       "29.0                   1\n",
       "31.0                   1\n",
       "49.0                   1\n",
       "33.0                   1\n",
       "34.0                   1\n",
       "35.0                   1\n",
       "38.0                   1\n",
       "41.0                   1\n",
       "42.0                   1\n",
       "Name: institute_service, dtype: int64"
      ]
     },
     "execution_count": 42,
     "metadata": {},
     "output_type": "execute_result"
    }
   ],
   "source": [
    "combined['institute_service'].value_counts(dropna=False)"
   ]
  },
  {
   "cell_type": "code",
   "execution_count": 43,
   "metadata": {},
   "outputs": [],
   "source": [
    "## This function will remove the following words:\n",
    "def no_words(element):  \n",
    "    if element == 'Less than 1 year':\n",
    "        return 0.0 \n",
    "    elif element == 'More than 20 years':\n",
    "        return 21.0\n",
    "    else:\n",
    "        return element"
   ]
  },
  {
   "cell_type": "code",
   "execution_count": 44,
   "metadata": {
    "scrolled": true
   },
   "outputs": [
    {
     "data": {
      "text/plain": [
       "0.0      93\n",
       "NaN      88\n",
       "1-2      64\n",
       "3-4      63\n",
       "5-6      33\n",
       "11-20    26\n",
       "5.0      23\n",
       "1.0      22\n",
       "7-10     21\n",
       "3.0      20\n",
       "6.0      17\n",
       "4.0      16\n",
       "9.0      14\n",
       "2.0      14\n",
       "7.0      13\n",
       "21.0     13\n",
       "8.0       8\n",
       "13.0      8\n",
       "15.0      7\n",
       "20.0      7\n",
       "10.0      6\n",
       "12.0      6\n",
       "14.0      6\n",
       "17.0      6\n",
       "22.0      6\n",
       "18.0      5\n",
       "16.0      5\n",
       "23.0      4\n",
       "24.0      4\n",
       "11.0      4\n",
       "19.0      3\n",
       "39.0      3\n",
       "32.0      3\n",
       "25.0      2\n",
       "26.0      2\n",
       "28.0      2\n",
       "30.0      2\n",
       "36.0      2\n",
       "35.0      1\n",
       "41.0      1\n",
       "38.0      1\n",
       "29.0      1\n",
       "34.0      1\n",
       "33.0      1\n",
       "31.0      1\n",
       "42.0      1\n",
       "27.0      1\n",
       "49.0      1\n",
       "Name: institute_service, dtype: int64"
      ]
     },
     "execution_count": 44,
     "metadata": {},
     "output_type": "execute_result"
    }
   ],
   "source": [
    "combined['institute_service'] = combined['institute_service'].map(no_words)\n",
    "combined['institute_service'].value_counts(dropna=False)"
   ]
  },
  {
   "cell_type": "markdown",
   "metadata": {},
   "source": [
    "### Now that words are removed, let's split the strings that have '-' and return a mean of two substrings."
   ]
  },
  {
   "cell_type": "code",
   "execution_count": 45,
   "metadata": {},
   "outputs": [
    {
     "data": {
      "text/plain": [
       "<class 'float'>    444\n",
       "<class 'str'>      207\n",
       "Name: institute_service, dtype: int64"
      ]
     },
     "execution_count": 45,
     "metadata": {},
     "output_type": "execute_result"
    }
   ],
   "source": [
    "## Let's see what datatypes are in 'institute_service' column which is object datatype \n",
    "combined['institute_service'].map(lambda x: type(x)).value_counts()"
   ]
  },
  {
   "cell_type": "code",
   "execution_count": 46,
   "metadata": {},
   "outputs": [],
   "source": [
    "## Since there are float and str in the column, I have to convert dtype into str to check if there is '-' in the element\n",
    "def avg_splitter(element):\n",
    "    if '-' in str(element):\n",
    "        spl = element.split('-')\n",
    "        return (float(spl[0]) + float(spl[1]))/2\n",
    "    return float(element)\n"
   ]
  },
  {
   "cell_type": "code",
   "execution_count": 47,
   "metadata": {
    "scrolled": true
   },
   "outputs": [
    {
     "data": {
      "text/plain": [
       "0.0     93\n",
       "1.0     22\n",
       "1.5     64\n",
       "2.0     14\n",
       "3.0     20\n",
       "3.5     63\n",
       "4.0     16\n",
       "5.0     23\n",
       "5.5     33\n",
       "6.0     17\n",
       "7.0     13\n",
       "8.0      8\n",
       "8.5     21\n",
       "9.0     14\n",
       "10.0     6\n",
       "11.0     4\n",
       "12.0     6\n",
       "13.0     8\n",
       "14.0     6\n",
       "15.0     7\n",
       "15.5    26\n",
       "16.0     5\n",
       "17.0     6\n",
       "18.0     5\n",
       "19.0     3\n",
       "20.0     7\n",
       "21.0    13\n",
       "22.0     6\n",
       "23.0     4\n",
       "24.0     4\n",
       "25.0     2\n",
       "26.0     2\n",
       "27.0     1\n",
       "28.0     2\n",
       "29.0     1\n",
       "30.0     2\n",
       "31.0     1\n",
       "32.0     3\n",
       "33.0     1\n",
       "34.0     1\n",
       "35.0     1\n",
       "36.0     2\n",
       "38.0     1\n",
       "39.0     3\n",
       "41.0     1\n",
       "42.0     1\n",
       "49.0     1\n",
       "NaN     88\n",
       "Name: institute_service, dtype: int64"
      ]
     },
     "execution_count": 47,
     "metadata": {},
     "output_type": "execute_result"
    }
   ],
   "source": [
    "## Transform the column\n",
    "combined['institute_service'] = combined['institute_service'].map(avg_splitter)\n",
    "combined['institute_service'].value_counts(dropna=False).sort_index()"
   ]
  },
  {
   "cell_type": "markdown",
   "metadata": {},
   "source": [
    "### Groupping :\n",
    "\n",
    "Now that I was able clean 'institute_service' column, let's group ages into several groups"
   ]
  },
  {
   "cell_type": "code",
   "execution_count": 48,
   "metadata": {},
   "outputs": [],
   "source": [
    "## Let's create stratas for each range of age\n",
    "def categorize(element):\n",
    "    if pd.isnull(element):\n",
    "        return element\n",
    "    elif element < 3:\n",
    "        return 'New'\n",
    "    elif element >= 3 and element <= 6:\n",
    "        return 'Experienced'\n",
    "    elif element >= 7 and element <= 10:\n",
    "        return 'Established'\n",
    "    elif element >= 11:\n",
    "        return 'Veteran'"
   ]
  },
  {
   "cell_type": "code",
   "execution_count": 49,
   "metadata": {},
   "outputs": [
    {
     "data": {
      "text/plain": [
       "New            193\n",
       "Experienced    172\n",
       "Veteran        136\n",
       "NaN             88\n",
       "Established     62\n",
       "Name: service_cat, dtype: int64"
      ]
     },
     "execution_count": 49,
     "metadata": {},
     "output_type": "execute_result"
    }
   ],
   "source": [
    "combined['service_cat'] = combined['institute_service'].map(categorize)\n",
    "combined['service_cat'].value_counts(dropna=False)"
   ]
  },
  {
   "cell_type": "markdown",
   "metadata": {},
   "source": [
    "### Fill NaN values:"
   ]
  },
  {
   "cell_type": "code",
   "execution_count": 50,
   "metadata": {},
   "outputs": [
    {
     "data": {
      "text/plain": [
       "False    403\n",
       "True     240\n",
       "NaN        8\n",
       "Name: dissatisfied, dtype: int64"
      ]
     },
     "execution_count": 50,
     "metadata": {},
     "output_type": "execute_result"
    }
   ],
   "source": [
    "combined['dissatisfied'].value_counts(dropna=False)"
   ]
  },
  {
   "cell_type": "code",
   "execution_count": 51,
   "metadata": {},
   "outputs": [
    {
     "data": {
      "text/plain": [
       "False    411\n",
       "True     240\n",
       "Name: dissatisfied, dtype: int64"
      ]
     },
     "execution_count": 51,
     "metadata": {},
     "output_type": "execute_result"
    }
   ],
   "source": [
    "## Let's fill NaN values in 'dissatisfied' with the most frequent value in the column\n",
    "## Above we can see that the most frequent value is 'False'\n",
    "combined['dissatisfied'].fillna(False, inplace=True)\n",
    "combined['dissatisfied'].value_counts(dropna=False)"
   ]
  },
  {
   "cell_type": "markdown",
   "metadata": {},
   "source": [
    "# Analysis:"
   ]
  },
  {
   "cell_type": "markdown",
   "metadata": {},
   "source": [
    "## Question 1:\n",
    "#### Are employees who only worked for the institutes for a short period of time resigning due to some kind of dissatisfaction? What about employees who have been there longer?\n",
    "\n",
    "Since'dissatisfied' column has True and False which are 1 and 0 respectively, I'm going to find proportion of dissatisfied employees by years of experience (service_cat)"
   ]
  },
  {
   "cell_type": "code",
   "execution_count": 52,
   "metadata": {},
   "outputs": [
    {
     "data": {
      "text/html": [
       "<div>\n",
       "<style scoped>\n",
       "    .dataframe tbody tr th:only-of-type {\n",
       "        vertical-align: middle;\n",
       "    }\n",
       "\n",
       "    .dataframe tbody tr th {\n",
       "        vertical-align: top;\n",
       "    }\n",
       "\n",
       "    .dataframe thead th {\n",
       "        text-align: right;\n",
       "    }\n",
       "</style>\n",
       "<table border=\"1\" class=\"dataframe\">\n",
       "  <thead>\n",
       "    <tr style=\"text-align: right;\">\n",
       "      <th></th>\n",
       "      <th>service_cat</th>\n",
       "      <th>dissatisfied</th>\n",
       "    </tr>\n",
       "  </thead>\n",
       "  <tbody>\n",
       "    <tr>\n",
       "      <th>2</th>\n",
       "      <td>New</td>\n",
       "      <td>0.295337</td>\n",
       "    </tr>\n",
       "    <tr>\n",
       "      <th>1</th>\n",
       "      <td>Experienced</td>\n",
       "      <td>0.343023</td>\n",
       "    </tr>\n",
       "    <tr>\n",
       "      <th>3</th>\n",
       "      <td>Veteran</td>\n",
       "      <td>0.485294</td>\n",
       "    </tr>\n",
       "    <tr>\n",
       "      <th>0</th>\n",
       "      <td>Established</td>\n",
       "      <td>0.516129</td>\n",
       "    </tr>\n",
       "  </tbody>\n",
       "</table>\n",
       "</div>"
      ],
      "text/plain": [
       "   service_cat  dissatisfied\n",
       "2          New      0.295337\n",
       "1  Experienced      0.343023\n",
       "3      Veteran      0.485294\n",
       "0  Established      0.516129"
      ]
     },
     "execution_count": 52,
     "metadata": {},
     "output_type": "execute_result"
    }
   ],
   "source": [
    "q1 = combined.groupby('service_cat')['dissatisfied'].mean().reset_index().sort_values('dissatisfied')\n",
    "q1"
   ]
  },
  {
   "cell_type": "code",
   "execution_count": 53,
   "metadata": {},
   "outputs": [
    {
     "data": {
      "image/png": "[encoded data removed]",
      "text/plain": [
       "<Figure size 504x360 with 1 Axes>"
      ]
     },
     "metadata": {
      "needs_background": "light"
     },
     "output_type": "display_data"
    }
   ],
   "source": [
    "fig, ax = plt.subplots(figsize=(7,5))\n",
    "ax.bar(q1['service_cat'] ,q1['dissatisfied'])\n",
    "for location in ['left', 'right', 'top', 'bottom']:\n",
    "     ax.spines[location].set_visible(False)   \n",
    "ax.set_xlabel('Experience', labelpad=15, size=16)\n",
    "ax.set_ylabel('Proportion', labelpad=15, size=16)\n",
    "plt.show()"
   ]
  },
  {
   "cell_type": "markdown",
   "metadata": {},
   "source": [
    "## Findings:\n",
    "\n",
    "As you can see above, there are less new employees that are resigning due to some type (there are many) of job dissatisfaction. Whereas employees that have been working at the company for more than 7 years (Established and Veterans) are resigning due to some type of dissatisfaction. In other words, relatively new employees tend to stick with the company regardless dissatisfactions."
   ]
  },
  {
   "cell_type": "markdown",
   "metadata": {},
   "source": [
    "## Question 2:\n",
    "#### Are younger employees resigning due to some kind of dissatisfaction? What about older employees?"
   ]
  },
  {
   "cell_type": "code",
   "execution_count": 54,
   "metadata": {},
   "outputs": [
    {
     "name": "stdout",
     "output_type": "stream",
     "text": [
      "<class 'pandas.core.frame.DataFrame'>\n",
      "Int64Index: 651 entries, 3 to 701\n",
      "Data columns (total 11 columns):\n",
      " #   Column             Non-Null Count  Dtype  \n",
      "---  ------             --------------  -----  \n",
      " 0   id                 651 non-null    float64\n",
      " 1   separationtype     651 non-null    object \n",
      " 2   cease_date         635 non-null    float64\n",
      " 3   position           598 non-null    object \n",
      " 4   employment_status  597 non-null    object \n",
      " 5   gender             592 non-null    object \n",
      " 6   age                596 non-null    object \n",
      " 7   institute_service  563 non-null    float64\n",
      " 8   dissatisfied       651 non-null    bool   \n",
      " 9   institute          651 non-null    object \n",
      " 10  service_cat        563 non-null    object \n",
      "dtypes: bool(1), float64(3), object(7)\n",
      "memory usage: 56.6+ KB\n"
     ]
    }
   ],
   "source": [
    "combined.info()"
   ]
  },
  {
   "cell_type": "code",
   "execution_count": 55,
   "metadata": {},
   "outputs": [
    {
     "data": {
      "text/plain": [
       "51-55            71\n",
       "41-45            48\n",
       "41  45           45\n",
       "46-50            42\n",
       "36-40            41\n",
       "46  50           39\n",
       "26-30            35\n",
       "21  25           33\n",
       "31  35           32\n",
       "36  40           32\n",
       "26  30           32\n",
       "31-35            29\n",
       "21-25            29\n",
       "56 or older      29\n",
       "56-60            26\n",
       "61 or older      23\n",
       "20 or younger    10\n",
       "Name: age, dtype: int64"
      ]
     },
     "execution_count": 55,
     "metadata": {},
     "output_type": "execute_result"
    }
   ],
   "source": [
    "combined['age'].value_counts()"
   ]
  },
  {
   "cell_type": "code",
   "execution_count": 56,
   "metadata": {},
   "outputs": [],
   "source": [
    "## Let's isolate years only from the age column\n",
    "combined.loc[combined['age'] == '56 or older', 'age'] = '56'\n",
    "combined.loc[combined['age'] == '61 or older', 'age'] = '61'\n",
    "combined.loc[combined['age'] == '20 or younger', 'age'] = '20'"
   ]
  },
  {
   "cell_type": "code",
   "execution_count": 57,
   "metadata": {},
   "outputs": [
    {
     "data": {
      "text/plain": [
       "51-55     71\n",
       "NaN       55\n",
       "41-45     48\n",
       "41  45    45\n",
       "46-50     42\n",
       "36-40     41\n",
       "46  50    39\n",
       "26-30     35\n",
       "21  25    33\n",
       "31  35    32\n",
       "36  40    32\n",
       "26  30    32\n",
       "31-35     29\n",
       "21-25     29\n",
       "56        29\n",
       "56-60     26\n",
       "61        23\n",
       "20        10\n",
       "Name: age, dtype: int64"
      ]
     },
     "execution_count": 57,
     "metadata": {},
     "output_type": "execute_result"
    }
   ],
   "source": [
    "combined['age'].value_counts(dropna=False)"
   ]
  },
  {
   "cell_type": "code",
   "execution_count": 58,
   "metadata": {},
   "outputs": [
    {
     "data": {
      "text/plain": [
       "41-45    93\n",
       "46-50    81\n",
       "36-40    73\n",
       "51-55    71\n",
       "26-30    67\n",
       "21-25    62\n",
       "31-35    61\n",
       "NaN      55\n",
       "56       29\n",
       "56-60    26\n",
       "61       23\n",
       "20       10\n",
       "Name: age, dtype: int64"
      ]
     },
     "execution_count": 58,
     "metadata": {},
     "output_type": "execute_result"
    }
   ],
   "source": [
    "## Let's \n",
    "combined['age'] = combined['age'].str.replace('  ', '-')\n",
    "combined['age'].value_counts(dropna=False)"
   ]
  },
  {
   "cell_type": "code",
   "execution_count": 59,
   "metadata": {},
   "outputs": [
    {
     "data": {
      "text/plain": [
       "<class 'str'>      596\n",
       "<class 'float'>     55\n",
       "Name: age, dtype: int64"
      ]
     },
     "execution_count": 59,
     "metadata": {},
     "output_type": "execute_result"
    }
   ],
   "source": [
    "## Let's see what datatypes are included in age column (object)\n",
    "combined['age'].map(lambda x: type(x)).value_counts()"
   ]
  },
  {
   "cell_type": "code",
   "execution_count": 60,
   "metadata": {},
   "outputs": [
    {
     "data": {
      "text/plain": [
       "43.0    93\n",
       "48.0    81\n",
       "38.0    73\n",
       "53.0    71\n",
       "28.0    67\n",
       "23.0    62\n",
       "33.0    61\n",
       "NaN     55\n",
       "56.0    29\n",
       "58.0    26\n",
       "61.0    23\n",
       "20.0    10\n",
       "Name: age, dtype: int64"
      ]
     },
     "execution_count": 60,
     "metadata": {},
     "output_type": "execute_result"
    }
   ],
   "source": [
    "## Since there are float and str inside age column, I need to have all the strings formatted accordingly and converted into float\n",
    "## Function that takes string numbers and returns the mean of those numbers \n",
    "def ss(x):\n",
    "    if '-' in str(x):\n",
    "        spl = x.split('-')\n",
    "        return (float(spl[0])+float(spl[1]))/2\n",
    "    return float(x) \n",
    "                \n",
    "combined['age'] = combined['age'].map(ss)\n",
    "combined['age'].value_counts(dropna=False)\n"
   ]
  },
  {
   "cell_type": "code",
   "execution_count": 61,
   "metadata": {},
   "outputs": [],
   "source": [
    "## Let's fill NaN values with the mean value of the column\n",
    "## Now that we don't have NaN values we can convert the values from float into int\n",
    "combined['age'] = combined['age'].fillna(combined['age'].mean()).astype(int)"
   ]
  },
  {
   "cell_type": "code",
   "execution_count": 62,
   "metadata": {},
   "outputs": [
    {
     "data": {
      "text/html": [
       "<div>\n",
       "<style scoped>\n",
       "    .dataframe tbody tr th:only-of-type {\n",
       "        vertical-align: middle;\n",
       "    }\n",
       "\n",
       "    .dataframe tbody tr th {\n",
       "        vertical-align: top;\n",
       "    }\n",
       "\n",
       "    .dataframe thead th {\n",
       "        text-align: right;\n",
       "    }\n",
       "</style>\n",
       "<table border=\"1\" class=\"dataframe\">\n",
       "  <thead>\n",
       "    <tr style=\"text-align: right;\">\n",
       "      <th></th>\n",
       "      <th>age</th>\n",
       "      <th>dissatisfied</th>\n",
       "    </tr>\n",
       "  </thead>\n",
       "  <tbody>\n",
       "    <tr>\n",
       "      <th>0</th>\n",
       "      <td>20</td>\n",
       "      <td>0.200000</td>\n",
       "    </tr>\n",
       "    <tr>\n",
       "      <th>1</th>\n",
       "      <td>23</td>\n",
       "      <td>0.306452</td>\n",
       "    </tr>\n",
       "    <tr>\n",
       "      <th>2</th>\n",
       "      <td>28</td>\n",
       "      <td>0.417910</td>\n",
       "    </tr>\n",
       "    <tr>\n",
       "      <th>3</th>\n",
       "      <td>33</td>\n",
       "      <td>0.377049</td>\n",
       "    </tr>\n",
       "    <tr>\n",
       "      <th>4</th>\n",
       "      <td>38</td>\n",
       "      <td>0.342466</td>\n",
       "    </tr>\n",
       "    <tr>\n",
       "      <th>5</th>\n",
       "      <td>41</td>\n",
       "      <td>0.254545</td>\n",
       "    </tr>\n",
       "    <tr>\n",
       "      <th>6</th>\n",
       "      <td>43</td>\n",
       "      <td>0.376344</td>\n",
       "    </tr>\n",
       "    <tr>\n",
       "      <th>7</th>\n",
       "      <td>48</td>\n",
       "      <td>0.382716</td>\n",
       "    </tr>\n",
       "    <tr>\n",
       "      <th>8</th>\n",
       "      <td>53</td>\n",
       "      <td>0.422535</td>\n",
       "    </tr>\n",
       "    <tr>\n",
       "      <th>9</th>\n",
       "      <td>56</td>\n",
       "      <td>0.206897</td>\n",
       "    </tr>\n",
       "    <tr>\n",
       "      <th>10</th>\n",
       "      <td>58</td>\n",
       "      <td>0.576923</td>\n",
       "    </tr>\n",
       "    <tr>\n",
       "      <th>11</th>\n",
       "      <td>61</td>\n",
       "      <td>0.521739</td>\n",
       "    </tr>\n",
       "  </tbody>\n",
       "</table>\n",
       "</div>"
      ],
      "text/plain": [
       "    age  dissatisfied\n",
       "0    20      0.200000\n",
       "1    23      0.306452\n",
       "2    28      0.417910\n",
       "3    33      0.377049\n",
       "4    38      0.342466\n",
       "5    41      0.254545\n",
       "6    43      0.376344\n",
       "7    48      0.382716\n",
       "8    53      0.422535\n",
       "9    56      0.206897\n",
       "10   58      0.576923\n",
       "11   61      0.521739"
      ]
     },
     "execution_count": 62,
     "metadata": {},
     "output_type": "execute_result"
    }
   ],
   "source": [
    "q2 = combined.groupby('age')['dissatisfied'].mean().reset_index()\n",
    "q2"
   ]
  },
  {
   "cell_type": "code",
   "execution_count": 63,
   "metadata": {},
   "outputs": [],
   "source": [
    "## A function to categorize age into groups \n",
    "def age_cat(x):\n",
    "    if x >= 20 and x < 30:\n",
    "        return '20-29'\n",
    "    elif x >= 30 and x < 40:\n",
    "        return '30-39'\n",
    "    elif x >= 40 and x < 50:\n",
    "        return '40-50'\n",
    "    else:\n",
    "        return '50-61'"
   ]
  },
  {
   "cell_type": "code",
   "execution_count": 64,
   "metadata": {},
   "outputs": [
    {
     "data": {
      "text/plain": [
       "20-29    139\n",
       "30-39    134\n",
       "40-50    229\n",
       "50-61    149\n",
       "Name: age_cat, dtype: int64"
      ]
     },
     "execution_count": 64,
     "metadata": {},
     "output_type": "execute_result"
    }
   ],
   "source": [
    "combined['age_cat'] = combined['age'].map(age_cat)\n",
    "combined['age_cat'].value_counts().sort_index()"
   ]
  },
  {
   "cell_type": "code",
   "execution_count": 65,
   "metadata": {},
   "outputs": [
    {
     "data": {
      "text/html": [
       "<div>\n",
       "<style scoped>\n",
       "    .dataframe tbody tr th:only-of-type {\n",
       "        vertical-align: middle;\n",
       "    }\n",
       "\n",
       "    .dataframe tbody tr th {\n",
       "        vertical-align: top;\n",
       "    }\n",
       "\n",
       "    .dataframe thead th {\n",
       "        text-align: right;\n",
       "    }\n",
       "</style>\n",
       "<table border=\"1\" class=\"dataframe\">\n",
       "  <thead>\n",
       "    <tr style=\"text-align: right;\">\n",
       "      <th></th>\n",
       "      <th>age_cat</th>\n",
       "      <th>dissatisfied</th>\n",
       "    </tr>\n",
       "  </thead>\n",
       "  <tbody>\n",
       "    <tr>\n",
       "      <th>0</th>\n",
       "      <td>20-29</td>\n",
       "      <td>0.352518</td>\n",
       "    </tr>\n",
       "    <tr>\n",
       "      <th>1</th>\n",
       "      <td>30-39</td>\n",
       "      <td>0.358209</td>\n",
       "    </tr>\n",
       "    <tr>\n",
       "      <th>2</th>\n",
       "      <td>40-50</td>\n",
       "      <td>0.349345</td>\n",
       "    </tr>\n",
       "    <tr>\n",
       "      <th>3</th>\n",
       "      <td>50-61</td>\n",
       "      <td>0.422819</td>\n",
       "    </tr>\n",
       "  </tbody>\n",
       "</table>\n",
       "</div>"
      ],
      "text/plain": [
       "  age_cat  dissatisfied\n",
       "0   20-29      0.352518\n",
       "1   30-39      0.358209\n",
       "2   40-50      0.349345\n",
       "3   50-61      0.422819"
      ]
     },
     "execution_count": 65,
     "metadata": {},
     "output_type": "execute_result"
    }
   ],
   "source": [
    "## Let's group by the age category to find avarage dissatisfaction rate of the employees that left the company\n",
    "q2 = combined.groupby('age_cat')['dissatisfied'].mean().reset_index()\n",
    "q2 "
   ]
  },
  {
   "cell_type": "code",
   "execution_count": 66,
   "metadata": {},
   "outputs": [
    {
     "data": {
      "image/png": "[encoded data removed]",
      "text/plain": [
       "<Figure size 504x360 with 1 Axes>"
      ]
     },
     "metadata": {
      "needs_background": "light"
     },
     "output_type": "display_data"
    }
   ],
   "source": [
    "fig, ax = plt.subplots(figsize=(7,5))\n",
    "ax.bar(q2['age_cat'] ,q2['dissatisfied'])\n",
    "for location in ['left', 'right', 'top', 'bottom']:\n",
    "     ax.spines[location].set_visible(False)   \n",
    "ax.set_xlabel('Age', labelpad=15, size=16)\n",
    "ax.set_ylabel('Proportion', labelpad=15, size=16)\n",
    "ax.set_ylim(0, 0.50)\n",
    "plt.show()"
   ]
  },
  {
   "cell_type": "markdown",
   "metadata": {},
   "source": [
    "## Findings:\n",
    "\n",
    "Just a little over 40 percent of the employees that are between 50-61 years old resigned due to some type of dissatisfaction. Whereas employees between 20-50 show fairly the same numbers. In other words, regardless of age difference, 35-45% of resigned employees quit their job specifically due to some type of dissatisfaction. This could be a bit loss for a company as the percentage of resignations due to job dissatisfaction is pretty high. "
   ]
  },
  {
   "cell_type": "code",
   "execution_count": null,
   "metadata": {},
   "outputs": [],
   "source": []
  }
 ],
 "metadata": {
  "kernelspec": {
   "display_name": "Python 3",
   "language": "python",
   "name": "python3"
  },
  "language_info": {
   "codemirror_mode": {
    "name": "ipython",
    "version": 3
   },
   "file_extension": ".py",
   "mimetype": "text/x-python",
   "name": "python",
   "nbconvert_exporter": "python",
   "pygments_lexer": "ipython3",
   "version": "3.8.5"
  }
 },
 "nbformat": 4,
 "nbformat_minor": 2
}
